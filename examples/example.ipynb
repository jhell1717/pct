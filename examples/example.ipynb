{
 "cells": [
  {
   "cell_type": "code",
   "execution_count": 1,
   "id": "3099ad42",
   "metadata": {},
   "outputs": [],
   "source": [
    "import pct\n",
    "from torch.utils.data import Dataset, DataLoader\n",
    "from dataclasses import dataclass"
   ]
  },
  {
   "cell_type": "markdown",
   "id": "3137bb95",
   "metadata": {},
   "source": [
    "### Model Training Setup:"
   ]
  },
  {
   "cell_type": "code",
   "execution_count": 5,
   "id": "f2702aba",
   "metadata": {},
   "outputs": [],
   "source": [
    "@dataclass\n",
    "class TrainConfig:\n",
    "    \"\"\"Training paramaters for training of pct.\n",
    "    \"\"\"\n",
    "    epochs: int = 10\n",
    "    batch_size: int = 64\n",
    "    lr: float = 1e-4\n",
    "    d_model: int = 128\n",
    "    depth: int = 3\n",
    "    n_heads: int = 4\n",
    "    k: int = 3\n",
    "    latent_dim: int = 128\n",
    "    out_dim: int = 1\n",
    "    drop: float = 0.0"
   ]
  },
  {
   "cell_type": "markdown",
   "id": "f2e55077",
   "metadata": {},
   "source": [
    "### Create Dummy Training Data\n",
    "* Creates a sphere of point cloud data to enable demonstration of pct operation.\n",
    "* Creates PyTorch dataloaders with specified batch_size for ```train``` and ```val```."
   ]
  },
  {
   "cell_type": "code",
   "execution_count": 3,
   "id": "f8ba6a4f",
   "metadata": {},
   "outputs": [],
   "source": [
    "train_ds = pct.DummyPointCloudDataset(n_samples=800, n_points=512)\n",
    "val_ds = pct.DummyPointCloudDataset(n_samples=200, n_points=512)\n",
    "\n",
    "train_loader = DataLoader(train_ds, batch_size=TrainConfig.batch_size, shuffle=True, num_workers=0, collate_fn=pct.collate_batch)\n",
    "val_loader = DataLoader(val_ds, batch_size=TrainConfig.batch_size, shuffle=False, num_workers=0, collate_fn=pct.collate_batch)"
   ]
  },
  {
   "cell_type": "code",
   "execution_count": 6,
   "id": "662414c5",
   "metadata": {},
   "outputs": [
    {
     "data": {
      "text/plain": [
       "PointCloudTransformer(\n",
       "  (encoder): PointTransformerEncoder(\n",
       "    (input_proj): Sequential(\n",
       "      (0): Linear(in_features=3, out_features=128, bias=True)\n",
       "      (1): GELU(approximate='none')\n",
       "      (2): Linear(in_features=128, out_features=128, bias=True)\n",
       "    )\n",
       "    (blocks): ModuleList(\n",
       "      (0-2): 3 x PointTransformerBlock(\n",
       "        (norm_q): LayerNorm((128,), eps=1e-05, elementwise_affine=True)\n",
       "        (q_proj): Linear(in_features=128, out_features=128, bias=True)\n",
       "        (k_proj): Linear(in_features=128, out_features=128, bias=True)\n",
       "        (v_proj): Linear(in_features=128, out_features=128, bias=True)\n",
       "        (rel_enc): RelPosEncoding(\n",
       "          (mlp): Sequential(\n",
       "            (0): Linear(in_features=4, out_features=64, bias=True)\n",
       "            (1): GELU(approximate='none')\n",
       "            (2): Linear(in_features=64, out_features=128, bias=True)\n",
       "          )\n",
       "        )\n",
       "        (attn_out): Linear(in_features=128, out_features=128, bias=True)\n",
       "        (drop): Dropout(p=0.0, inplace=False)\n",
       "        (ff): Sequential(\n",
       "          (0): LayerNorm((128,), eps=1e-05, elementwise_affine=True)\n",
       "          (1): Linear(in_features=128, out_features=512, bias=True)\n",
       "          (2): GELU(approximate='none')\n",
       "          (3): Dropout(p=0.0, inplace=False)\n",
       "          (4): Linear(in_features=512, out_features=128, bias=True)\n",
       "        )\n",
       "      )\n",
       "    )\n",
       "    (out_norm): LayerNorm((128,), eps=1e-05, elementwise_affine=True)\n",
       "  )\n",
       "  (readout): GlobalReadout(\n",
       "    (proj): Sequential(\n",
       "      (0): Linear(in_features=256, out_features=128, bias=True)\n",
       "      (1): GELU(approximate='none')\n",
       "      (2): Linear(in_features=128, out_features=128, bias=True)\n",
       "    )\n",
       "  )\n",
       "  (reg_head): Sequential(\n",
       "    (0): LayerNorm((128,), eps=1e-05, elementwise_affine=True)\n",
       "    (1): Linear(in_features=128, out_features=64, bias=True)\n",
       "    (2): GELU(approximate='none')\n",
       "    (3): Dropout(p=0.0, inplace=False)\n",
       "    (4): Linear(in_features=64, out_features=1, bias=True)\n",
       "  )\n",
       ")"
      ]
     },
     "execution_count": 6,
     "metadata": {},
     "output_type": "execute_result"
    }
   ],
   "source": [
    "model = pct.PointCloudTransformer(\n",
    "        in_channels=3,\n",
    "        d_model=TrainConfig.d_model,\n",
    "        depth=TrainConfig.depth,\n",
    "        n_heads=TrainConfig.n_heads,\n",
    "        k=TrainConfig.k,\n",
    "        latent_dim=TrainConfig.latent_dim,\n",
    "        out_dim=TrainConfig.out_dim,\n",
    "        drop=TrainConfig.drop,\n",
    "    )\n",
    "model"
   ]
  },
  {
   "cell_type": "markdown",
   "id": "baa1e947",
   "metadata": {},
   "source": [
    "### Model Training:\n",
    "* The model is trained using the ```train_loader``` and ```val_loader```.\n",
    "* Epochs and learning rate are specified in the ```TrainConfig``` dataclass."
   ]
  },
  {
   "cell_type": "code",
   "execution_count": 7,
   "id": "6b43bf0f",
   "metadata": {},
   "outputs": [
    {
     "name": "stderr",
     "output_type": "stream",
     "text": [
      "/Users/joshuahellewell/miniforge3/envs/pct/lib/python3.13/site-packages/pct/trainer.py:19: FutureWarning: `torch.cuda.amp.GradScaler(args...)` is deprecated. Please use `torch.amp.GradScaler('cuda', args...)` instead.\n",
      "  scaler = torch.cuda.amp.GradScaler(enabled=(device.startswith('cuda')))\n",
      "/Users/joshuahellewell/miniforge3/envs/pct/lib/python3.13/site-packages/pct/trainer.py:29: FutureWarning: `torch.cuda.amp.autocast(args...)` is deprecated. Please use `torch.amp.autocast('cuda', args...)` instead.\n",
      "  with torch.cuda.amp.autocast(enabled=(device.startswith('cuda'))):\n",
      "/Users/joshuahellewell/miniforge3/envs/pct/lib/python3.13/site-packages/pct/trainer.py:45: FutureWarning: `torch.cuda.amp.autocast(args...)` is deprecated. Please use `torch.amp.autocast('cuda', args...)` instead.\n",
      "  with torch.cuda.amp.autocast(enabled=(device.startswith('cuda'))):\n"
     ]
    },
    {
     "name": "stdout",
     "output_type": "stream",
     "text": [
      "Epoch 001 | train 0.0650 | val 0.0027\n",
      "Epoch 002 | train 0.0007 | val 0.0002\n",
      "Epoch 003 | train 0.0002 | val 0.0001\n",
      "Epoch 004 | train 0.0001 | val 0.0001\n",
      "Epoch 005 | train 0.0001 | val 0.0002\n",
      "Epoch 006 | train 0.0002 | val 0.0001\n",
      "Epoch 007 | train 0.0001 | val 0.0001\n",
      "Epoch 008 | train 0.0001 | val 0.0001\n",
      "Epoch 009 | train 0.0001 | val 0.0001\n",
      "Epoch 010 | train 0.0001 | val 0.0002\n"
     ]
    }
   ],
   "source": [
    "pct.train_regression(model, train_loader, val_loader, epochs=TrainConfig.epochs, lr=TrainConfig.lr)"
   ]
  },
  {
   "cell_type": "markdown",
   "id": "06a204fa",
   "metadata": {},
   "source": [
    "### Extract Latent Vectors"
   ]
  },
  {
   "cell_type": "code",
   "execution_count": null,
   "id": "91951127",
   "metadata": {},
   "outputs": [
    {
     "data": {
      "text/plain": [
       "<pct.dummy.DummyPointCloudDataset at 0x11779f620>"
      ]
     },
     "execution_count": 13,
     "metadata": {},
     "output_type": "execute_result"
    }
   ],
   "source": [
    "train_ds"
   ]
  },
  {
   "cell_type": "code",
   "execution_count": 12,
   "id": "98280717",
   "metadata": {},
   "outputs": [
    {
     "name": "stdout",
     "output_type": "stream",
     "text": [
      "torch.Size([800, 128])\n"
     ]
    }
   ],
   "source": [
    "latents = pct.extract_latents(train_loader,model)\n",
    "print(latents.shape)"
   ]
  },
  {
   "cell_type": "code",
   "execution_count": 18,
   "id": "346c1e05",
   "metadata": {},
   "outputs": [
    {
     "data": {
      "application/vnd.plotly.v1+json": {
       "config": {
        "plotlyServerURL": "https://plot.ly"
       },
       "data": [
        {
         "marker": {
          "color": {
           "bdata": "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",
           "dtype": "f4"
          },
          "colorscale": [
           [
            0,
            "#440154"
           ],
           [
            0.1111111111111111,
            "#482878"
           ],
           [
            0.2222222222222222,
            "#3e4989"
           ],
           [
            0.3333333333333333,
            "#31688e"
           ],
           [
            0.4444444444444444,
            "#26828e"
           ],
           [
            0.5555555555555556,
            "#1f9e89"
           ],
           [
            0.6666666666666666,
            "#35b779"
           ],
           [
            0.7777777777777778,
            "#6ece58"
           ],
           [
            0.8888888888888888,
            "#b5de2b"
           ],
           [
            1,
            "#fde725"
           ]
          ],
          "opacity": 0.8,
          "size": 3
         },
         "mode": "markers",
         "type": "scatter3d",
         "x": {
          "bdata": "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",
          "dtype": "f4"
         },
         "y": {
          "bdata": "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",
          "dtype": "f4"
         },
         "z": {
          "bdata": "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",
          "dtype": "f4"
         }
        }
       ],
       "layout": {
        "margin": {
         "b": 0,
         "l": 0,
         "r": 0,
         "t": 30
        },
        "scene": {
         "xaxis": {
          "title": {
           "text": "X"
          }
         },
         "yaxis": {
          "title": {
           "text": "Y"
          }
         },
         "zaxis": {
          "title": {
           "text": "Z"
          }
         }
        },
        "template": {
         "data": {
          "bar": [
           {
            "error_x": {
             "color": "#2a3f5f"
            },
            "error_y": {
             "color": "#2a3f5f"
            },
            "marker": {
             "line": {
              "color": "#E5ECF6",
              "width": 0.5
             },
             "pattern": {
              "fillmode": "overlay",
              "size": 10,
              "solidity": 0.2
             }
            },
            "type": "bar"
           }
          ],
          "barpolar": [
           {
            "marker": {
             "line": {
              "color": "#E5ECF6",
              "width": 0.5
             },
             "pattern": {
              "fillmode": "overlay",
              "size": 10,
              "solidity": 0.2
             }
            },
            "type": "barpolar"
           }
          ],
          "carpet": [
           {
            "aaxis": {
             "endlinecolor": "#2a3f5f",
             "gridcolor": "white",
             "linecolor": "white",
             "minorgridcolor": "white",
             "startlinecolor": "#2a3f5f"
            },
            "baxis": {
             "endlinecolor": "#2a3f5f",
             "gridcolor": "white",
             "linecolor": "white",
             "minorgridcolor": "white",
             "startlinecolor": "#2a3f5f"
            },
            "type": "carpet"
           }
          ],
          "choropleth": [
           {
            "colorbar": {
             "outlinewidth": 0,
             "ticks": ""
            },
            "type": "choropleth"
           }
          ],
          "contour": [
           {
            "colorbar": {
             "outlinewidth": 0,
             "ticks": ""
            },
            "colorscale": [
             [
              0,
              "#0d0887"
             ],
             [
              0.1111111111111111,
              "#46039f"
             ],
             [
              0.2222222222222222,
              "#7201a8"
             ],
             [
              0.3333333333333333,
              "#9c179e"
             ],
             [
              0.4444444444444444,
              "#bd3786"
             ],
             [
              0.5555555555555556,
              "#d8576b"
             ],
             [
              0.6666666666666666,
              "#ed7953"
             ],
             [
              0.7777777777777778,
              "#fb9f3a"
             ],
             [
              0.8888888888888888,
              "#fdca26"
             ],
             [
              1,
              "#f0f921"
             ]
            ],
            "type": "contour"
           }
          ],
          "contourcarpet": [
           {
            "colorbar": {
             "outlinewidth": 0,
             "ticks": ""
            },
            "type": "contourcarpet"
           }
          ],
          "heatmap": [
           {
            "colorbar": {
             "outlinewidth": 0,
             "ticks": ""
            },
            "colorscale": [
             [
              0,
              "#0d0887"
             ],
             [
              0.1111111111111111,
              "#46039f"
             ],
             [
              0.2222222222222222,
              "#7201a8"
             ],
             [
              0.3333333333333333,
              "#9c179e"
             ],
             [
              0.4444444444444444,
              "#bd3786"
             ],
             [
              0.5555555555555556,
              "#d8576b"
             ],
             [
              0.6666666666666666,
              "#ed7953"
             ],
             [
              0.7777777777777778,
              "#fb9f3a"
             ],
             [
              0.8888888888888888,
              "#fdca26"
             ],
             [
              1,
              "#f0f921"
             ]
            ],
            "type": "heatmap"
           }
          ],
          "histogram": [
           {
            "marker": {
             "pattern": {
              "fillmode": "overlay",
              "size": 10,
              "solidity": 0.2
             }
            },
            "type": "histogram"
           }
          ],
          "histogram2d": [
           {
            "colorbar": {
             "outlinewidth": 0,
             "ticks": ""
            },
            "colorscale": [
             [
              0,
              "#0d0887"
             ],
             [
              0.1111111111111111,
              "#46039f"
             ],
             [
              0.2222222222222222,
              "#7201a8"
             ],
             [
              0.3333333333333333,
              "#9c179e"
             ],
             [
              0.4444444444444444,
              "#bd3786"
             ],
             [
              0.5555555555555556,
              "#d8576b"
             ],
             [
              0.6666666666666666,
              "#ed7953"
             ],
             [
              0.7777777777777778,
              "#fb9f3a"
             ],
             [
              0.8888888888888888,
              "#fdca26"
             ],
             [
              1,
              "#f0f921"
             ]
            ],
            "type": "histogram2d"
           }
          ],
          "histogram2dcontour": [
           {
            "colorbar": {
             "outlinewidth": 0,
             "ticks": ""
            },
            "colorscale": [
             [
              0,
              "#0d0887"
             ],
             [
              0.1111111111111111,
              "#46039f"
             ],
             [
              0.2222222222222222,
              "#7201a8"
             ],
             [
              0.3333333333333333,
              "#9c179e"
             ],
             [
              0.4444444444444444,
              "#bd3786"
             ],
             [
              0.5555555555555556,
              "#d8576b"
             ],
             [
              0.6666666666666666,
              "#ed7953"
             ],
             [
              0.7777777777777778,
              "#fb9f3a"
             ],
             [
              0.8888888888888888,
              "#fdca26"
             ],
             [
              1,
              "#f0f921"
             ]
            ],
            "type": "histogram2dcontour"
           }
          ],
          "mesh3d": [
           {
            "colorbar": {
             "outlinewidth": 0,
             "ticks": ""
            },
            "type": "mesh3d"
           }
          ],
          "parcoords": [
           {
            "line": {
             "colorbar": {
              "outlinewidth": 0,
              "ticks": ""
             }
            },
            "type": "parcoords"
           }
          ],
          "pie": [
           {
            "automargin": true,
            "type": "pie"
           }
          ],
          "scatter": [
           {
            "fillpattern": {
             "fillmode": "overlay",
             "size": 10,
             "solidity": 0.2
            },
            "type": "scatter"
           }
          ],
          "scatter3d": [
           {
            "line": {
             "colorbar": {
              "outlinewidth": 0,
              "ticks": ""
             }
            },
            "marker": {
             "colorbar": {
              "outlinewidth": 0,
              "ticks": ""
             }
            },
            "type": "scatter3d"
           }
          ],
          "scattercarpet": [
           {
            "marker": {
             "colorbar": {
              "outlinewidth": 0,
              "ticks": ""
             }
            },
            "type": "scattercarpet"
           }
          ],
          "scattergeo": [
           {
            "marker": {
             "colorbar": {
              "outlinewidth": 0,
              "ticks": ""
             }
            },
            "type": "scattergeo"
           }
          ],
          "scattergl": [
           {
            "marker": {
             "colorbar": {
              "outlinewidth": 0,
              "ticks": ""
             }
            },
            "type": "scattergl"
           }
          ],
          "scattermap": [
           {
            "marker": {
             "colorbar": {
              "outlinewidth": 0,
              "ticks": ""
             }
            },
            "type": "scattermap"
           }
          ],
          "scattermapbox": [
           {
            "marker": {
             "colorbar": {
              "outlinewidth": 0,
              "ticks": ""
             }
            },
            "type": "scattermapbox"
           }
          ],
          "scatterpolar": [
           {
            "marker": {
             "colorbar": {
              "outlinewidth": 0,
              "ticks": ""
             }
            },
            "type": "scatterpolar"
           }
          ],
          "scatterpolargl": [
           {
            "marker": {
             "colorbar": {
              "outlinewidth": 0,
              "ticks": ""
             }
            },
            "type": "scatterpolargl"
           }
          ],
          "scatterternary": [
           {
            "marker": {
             "colorbar": {
              "outlinewidth": 0,
              "ticks": ""
             }
            },
            "type": "scatterternary"
           }
          ],
          "surface": [
           {
            "colorbar": {
             "outlinewidth": 0,
             "ticks": ""
            },
            "colorscale": [
             [
              0,
              "#0d0887"
             ],
             [
              0.1111111111111111,
              "#46039f"
             ],
             [
              0.2222222222222222,
              "#7201a8"
             ],
             [
              0.3333333333333333,
              "#9c179e"
             ],
             [
              0.4444444444444444,
              "#bd3786"
             ],
             [
              0.5555555555555556,
              "#d8576b"
             ],
             [
              0.6666666666666666,
              "#ed7953"
             ],
             [
              0.7777777777777778,
              "#fb9f3a"
             ],
             [
              0.8888888888888888,
              "#fdca26"
             ],
             [
              1,
              "#f0f921"
             ]
            ],
            "type": "surface"
           }
          ],
          "table": [
           {
            "cells": {
             "fill": {
              "color": "#EBF0F8"
             },
             "line": {
              "color": "white"
             }
            },
            "header": {
             "fill": {
              "color": "#C8D4E3"
             },
             "line": {
              "color": "white"
             }
            },
            "type": "table"
           }
          ]
         },
         "layout": {
          "annotationdefaults": {
           "arrowcolor": "#2a3f5f",
           "arrowhead": 0,
           "arrowwidth": 1
          },
          "autotypenumbers": "strict",
          "coloraxis": {
           "colorbar": {
            "outlinewidth": 0,
            "ticks": ""
           }
          },
          "colorscale": {
           "diverging": [
            [
             0,
             "#8e0152"
            ],
            [
             0.1,
             "#c51b7d"
            ],
            [
             0.2,
             "#de77ae"
            ],
            [
             0.3,
             "#f1b6da"
            ],
            [
             0.4,
             "#fde0ef"
            ],
            [
             0.5,
             "#f7f7f7"
            ],
            [
             0.6,
             "#e6f5d0"
            ],
            [
             0.7,
             "#b8e186"
            ],
            [
             0.8,
             "#7fbc41"
            ],
            [
             0.9,
             "#4d9221"
            ],
            [
             1,
             "#276419"
            ]
           ],
           "sequential": [
            [
             0,
             "#0d0887"
            ],
            [
             0.1111111111111111,
             "#46039f"
            ],
            [
             0.2222222222222222,
             "#7201a8"
            ],
            [
             0.3333333333333333,
             "#9c179e"
            ],
            [
             0.4444444444444444,
             "#bd3786"
            ],
            [
             0.5555555555555556,
             "#d8576b"
            ],
            [
             0.6666666666666666,
             "#ed7953"
            ],
            [
             0.7777777777777778,
             "#fb9f3a"
            ],
            [
             0.8888888888888888,
             "#fdca26"
            ],
            [
             1,
             "#f0f921"
            ]
           ],
           "sequentialminus": [
            [
             0,
             "#0d0887"
            ],
            [
             0.1111111111111111,
             "#46039f"
            ],
            [
             0.2222222222222222,
             "#7201a8"
            ],
            [
             0.3333333333333333,
             "#9c179e"
            ],
            [
             0.4444444444444444,
             "#bd3786"
            ],
            [
             0.5555555555555556,
             "#d8576b"
            ],
            [
             0.6666666666666666,
             "#ed7953"
            ],
            [
             0.7777777777777778,
             "#fb9f3a"
            ],
            [
             0.8888888888888888,
             "#fdca26"
            ],
            [
             1,
             "#f0f921"
            ]
           ]
          },
          "colorway": [
           "#636efa",
           "#EF553B",
           "#00cc96",
           "#ab63fa",
           "#FFA15A",
           "#19d3f3",
           "#FF6692",
           "#B6E880",
           "#FF97FF",
           "#FECB52"
          ],
          "font": {
           "color": "#2a3f5f"
          },
          "geo": {
           "bgcolor": "white",
           "lakecolor": "white",
           "landcolor": "#E5ECF6",
           "showlakes": true,
           "showland": true,
           "subunitcolor": "white"
          },
          "hoverlabel": {
           "align": "left"
          },
          "hovermode": "closest",
          "mapbox": {
           "style": "light"
          },
          "paper_bgcolor": "white",
          "plot_bgcolor": "#E5ECF6",
          "polar": {
           "angularaxis": {
            "gridcolor": "white",
            "linecolor": "white",
            "ticks": ""
           },
           "bgcolor": "#E5ECF6",
           "radialaxis": {
            "gridcolor": "white",
            "linecolor": "white",
            "ticks": ""
           }
          },
          "scene": {
           "xaxis": {
            "backgroundcolor": "#E5ECF6",
            "gridcolor": "white",
            "gridwidth": 2,
            "linecolor": "white",
            "showbackground": true,
            "ticks": "",
            "zerolinecolor": "white"
           },
           "yaxis": {
            "backgroundcolor": "#E5ECF6",
            "gridcolor": "white",
            "gridwidth": 2,
            "linecolor": "white",
            "showbackground": true,
            "ticks": "",
            "zerolinecolor": "white"
           },
           "zaxis": {
            "backgroundcolor": "#E5ECF6",
            "gridcolor": "white",
            "gridwidth": 2,
            "linecolor": "white",
            "showbackground": true,
            "ticks": "",
            "zerolinecolor": "white"
           }
          },
          "shapedefaults": {
           "line": {
            "color": "#2a3f5f"
           }
          },
          "ternary": {
           "aaxis": {
            "gridcolor": "white",
            "linecolor": "white",
            "ticks": ""
           },
           "baxis": {
            "gridcolor": "white",
            "linecolor": "white",
            "ticks": ""
           },
           "bgcolor": "#E5ECF6",
           "caxis": {
            "gridcolor": "white",
            "linecolor": "white",
            "ticks": ""
           }
          },
          "title": {
           "x": 0.05
          },
          "xaxis": {
           "automargin": true,
           "gridcolor": "white",
           "linecolor": "white",
           "ticks": "",
           "title": {
            "standoff": 15
           },
           "zerolinecolor": "white",
           "zerolinewidth": 2
          },
          "yaxis": {
           "automargin": true,
           "gridcolor": "white",
           "linecolor": "white",
           "ticks": "",
           "title": {
            "standoff": 15
           },
           "zerolinecolor": "white",
           "zerolinewidth": 2
          }
         }
        },
        "title": {
         "text": "Noisy Sphere (r=1.19)"
        }
       }
      }
     },
     "metadata": {},
     "output_type": "display_data"
    }
   ],
   "source": [
    "points, targets = train_ds[2]\n",
    "\n",
    "pct.visualize_point_cloud(points, title=f\"Noisy Sphere (r={targets.item():.2f})\")"
   ]
  }
 ],
 "metadata": {
  "kernelspec": {
   "display_name": "pct",
   "language": "python",
   "name": "python3"
  },
  "language_info": {
   "codemirror_mode": {
    "name": "ipython",
    "version": 3
   },
   "file_extension": ".py",
   "mimetype": "text/x-python",
   "name": "python",
   "nbconvert_exporter": "python",
   "pygments_lexer": "ipython3",
   "version": "3.13.5"
  }
 },
 "nbformat": 4,
 "nbformat_minor": 5
}
