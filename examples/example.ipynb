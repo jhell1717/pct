{
 "cells": [
  {
   "cell_type": "code",
   "execution_count": 1,
   "id": "3099ad42",
   "metadata": {},
   "outputs": [],
   "source": [
    "import pct\n",
    "from torch.utils.data import Dataset, DataLoader"
   ]
  },
  {
   "cell_type": "code",
   "execution_count": 2,
   "id": "f8ba6a4f",
   "metadata": {},
   "outputs": [],
   "source": [
    "train_ds = pct.DummyPointCloudDataset(n_samples=800, n_points=512)\n",
    "val_ds = pct.DummyPointCloudDataset(n_samples=200, n_points=512)\n",
    "\n",
    "train_loader = DataLoader(train_ds, batch_size=pct.TrainConfig.batch_size, shuffle=True, num_workers=0, collate_fn=pct.collate_batch)\n",
    "val_loader = DataLoader(val_ds, batch_size=pct.TrainConfig.batch_size, shuffle=False, num_workers=0, collate_fn=pct.collate_batch)"
   ]
  },
  {
   "cell_type": "code",
   "execution_count": 3,
   "id": "662414c5",
   "metadata": {},
   "outputs": [],
   "source": [
    "model = pct.PointCloudTransformer(\n",
    "        in_channels=3,\n",
    "        d_model=pct.TrainConfig.d_model,\n",
    "        depth=pct.TrainConfig.depth,\n",
    "        n_heads=pct.TrainConfig.n_heads,\n",
    "        k=pct.TrainConfig.k,\n",
    "        latent_dim=pct.TrainConfig.latent_dim,\n",
    "        out_dim=pct.TrainConfig.out_dim,\n",
    "        drop=pct.TrainConfig.drop,\n",
    "    )"
   ]
  },
  {
   "cell_type": "code",
   "execution_count": 4,
   "id": "6b43bf0f",
   "metadata": {},
   "outputs": [
    {
     "name": "stderr",
     "output_type": "stream",
     "text": [
      "/Users/joshuahellewell/miniforge3/envs/pct/lib/python3.13/site-packages/pct/trainer.py:37: FutureWarning: `torch.cuda.amp.GradScaler(args...)` is deprecated. Please use `torch.amp.GradScaler('cuda', args...)` instead.\n",
      "  scaler = torch.cuda.amp.GradScaler(enabled=(device.startswith('cuda')))\n",
      "/Users/joshuahellewell/miniforge3/envs/pct/lib/python3.13/site-packages/pct/trainer.py:47: FutureWarning: `torch.cuda.amp.autocast(args...)` is deprecated. Please use `torch.amp.autocast('cuda', args...)` instead.\n",
      "  with torch.cuda.amp.autocast(enabled=(device.startswith('cuda'))):\n",
      "/Users/joshuahellewell/miniforge3/envs/pct/lib/python3.13/site-packages/pct/trainer.py:63: FutureWarning: `torch.cuda.amp.autocast(args...)` is deprecated. Please use `torch.amp.autocast('cuda', args...)` instead.\n",
      "  with torch.cuda.amp.autocast(enabled=(device.startswith('cuda'))):\n"
     ]
    },
    {
     "name": "stdout",
     "output_type": "stream",
     "text": [
      "Epoch 001 | train 0.0314 | val 0.0004\n"
     ]
    },
    {
     "ename": "KeyboardInterrupt",
     "evalue": "",
     "output_type": "error",
     "traceback": [
      "\u001b[31m---------------------------------------------------------------------------\u001b[39m",
      "\u001b[31mKeyboardInterrupt\u001b[39m                         Traceback (most recent call last)",
      "\u001b[36mCell\u001b[39m\u001b[36m \u001b[39m\u001b[32mIn[4]\u001b[39m\u001b[32m, line 1\u001b[39m\n\u001b[32m----> \u001b[39m\u001b[32m1\u001b[39m \u001b[43mpct\u001b[49m\u001b[43m.\u001b[49m\u001b[43mtrain_regression\u001b[49m\u001b[43m(\u001b[49m\u001b[43mmodel\u001b[49m\u001b[43m,\u001b[49m\u001b[43m \u001b[49m\u001b[43mtrain_loader\u001b[49m\u001b[43m,\u001b[49m\u001b[43m \u001b[49m\u001b[43mval_loader\u001b[49m\u001b[43m,\u001b[49m\u001b[43m \u001b[49m\u001b[43mepochs\u001b[49m\u001b[43m=\u001b[49m\u001b[43mpct\u001b[49m\u001b[43m.\u001b[49m\u001b[43mTrainConfig\u001b[49m\u001b[43m.\u001b[49m\u001b[43mepochs\u001b[49m\u001b[43m,\u001b[49m\u001b[43m \u001b[49m\u001b[43mlr\u001b[49m\u001b[43m=\u001b[49m\u001b[43mpct\u001b[49m\u001b[43m.\u001b[49m\u001b[43mTrainConfig\u001b[49m\u001b[43m.\u001b[49m\u001b[43mlr\u001b[49m\u001b[43m)\u001b[49m\n",
      "\u001b[36mFile \u001b[39m\u001b[32m~/miniforge3/envs/pct/lib/python3.13/site-packages/pct/trainer.py:48\u001b[39m, in \u001b[36mtrain_regression\u001b[39m\u001b[34m(model, train_loader, val_loader, epochs, lr, device)\u001b[39m\n\u001b[32m     46\u001b[39m opt.zero_grad(set_to_none=\u001b[38;5;28;01mTrue\u001b[39;00m)\n\u001b[32m     47\u001b[39m \u001b[38;5;28;01mwith\u001b[39;00m torch.cuda.amp.autocast(enabled=(device.startswith(\u001b[33m'\u001b[39m\u001b[33mcuda\u001b[39m\u001b[33m'\u001b[39m))):\n\u001b[32m---> \u001b[39m\u001b[32m48\u001b[39m     pred = \u001b[43mmodel\u001b[49m\u001b[43m(\u001b[49m\u001b[43mxyz\u001b[49m\u001b[43m)\u001b[49m\n\u001b[32m     49\u001b[39m     loss = F.mse_loss(pred, y)\n\u001b[32m     50\u001b[39m scaler.scale(loss).backward()\n",
      "\u001b[36mFile \u001b[39m\u001b[32m~/miniforge3/envs/pct/lib/python3.13/site-packages/torch/nn/modules/module.py:1773\u001b[39m, in \u001b[36mModule._wrapped_call_impl\u001b[39m\u001b[34m(self, *args, **kwargs)\u001b[39m\n\u001b[32m   1771\u001b[39m     \u001b[38;5;28;01mreturn\u001b[39;00m \u001b[38;5;28mself\u001b[39m._compiled_call_impl(*args, **kwargs)  \u001b[38;5;66;03m# type: ignore[misc]\u001b[39;00m\n\u001b[32m   1772\u001b[39m \u001b[38;5;28;01melse\u001b[39;00m:\n\u001b[32m-> \u001b[39m\u001b[32m1773\u001b[39m     \u001b[38;5;28;01mreturn\u001b[39;00m \u001b[38;5;28;43mself\u001b[39;49m\u001b[43m.\u001b[49m\u001b[43m_call_impl\u001b[49m\u001b[43m(\u001b[49m\u001b[43m*\u001b[49m\u001b[43margs\u001b[49m\u001b[43m,\u001b[49m\u001b[43m \u001b[49m\u001b[43m*\u001b[49m\u001b[43m*\u001b[49m\u001b[43mkwargs\u001b[49m\u001b[43m)\u001b[49m\n",
      "\u001b[36mFile \u001b[39m\u001b[32m~/miniforge3/envs/pct/lib/python3.13/site-packages/torch/nn/modules/module.py:1784\u001b[39m, in \u001b[36mModule._call_impl\u001b[39m\u001b[34m(self, *args, **kwargs)\u001b[39m\n\u001b[32m   1779\u001b[39m \u001b[38;5;66;03m# If we don't have any hooks, we want to skip the rest of the logic in\u001b[39;00m\n\u001b[32m   1780\u001b[39m \u001b[38;5;66;03m# this function, and just call forward.\u001b[39;00m\n\u001b[32m   1781\u001b[39m \u001b[38;5;28;01mif\u001b[39;00m \u001b[38;5;129;01mnot\u001b[39;00m (\u001b[38;5;28mself\u001b[39m._backward_hooks \u001b[38;5;129;01mor\u001b[39;00m \u001b[38;5;28mself\u001b[39m._backward_pre_hooks \u001b[38;5;129;01mor\u001b[39;00m \u001b[38;5;28mself\u001b[39m._forward_hooks \u001b[38;5;129;01mor\u001b[39;00m \u001b[38;5;28mself\u001b[39m._forward_pre_hooks\n\u001b[32m   1782\u001b[39m         \u001b[38;5;129;01mor\u001b[39;00m _global_backward_pre_hooks \u001b[38;5;129;01mor\u001b[39;00m _global_backward_hooks\n\u001b[32m   1783\u001b[39m         \u001b[38;5;129;01mor\u001b[39;00m _global_forward_hooks \u001b[38;5;129;01mor\u001b[39;00m _global_forward_pre_hooks):\n\u001b[32m-> \u001b[39m\u001b[32m1784\u001b[39m     \u001b[38;5;28;01mreturn\u001b[39;00m \u001b[43mforward_call\u001b[49m\u001b[43m(\u001b[49m\u001b[43m*\u001b[49m\u001b[43margs\u001b[49m\u001b[43m,\u001b[49m\u001b[43m \u001b[49m\u001b[43m*\u001b[49m\u001b[43m*\u001b[49m\u001b[43mkwargs\u001b[49m\u001b[43m)\u001b[49m\n\u001b[32m   1786\u001b[39m result = \u001b[38;5;28;01mNone\u001b[39;00m\n\u001b[32m   1787\u001b[39m called_always_called_hooks = \u001b[38;5;28mset\u001b[39m()\n",
      "\u001b[36mFile \u001b[39m\u001b[32m~/miniforge3/envs/pct/lib/python3.13/site-packages/pct/model.py:177\u001b[39m, in \u001b[36mPointCloudTransformer.forward\u001b[39m\u001b[34m(self, xyz, feats, return_latent)\u001b[39m\n\u001b[32m    176\u001b[39m \u001b[38;5;28;01mdef\u001b[39;00m\u001b[38;5;250m \u001b[39m\u001b[34mforward\u001b[39m(\u001b[38;5;28mself\u001b[39m, xyz: torch.Tensor, feats: Optional[torch.Tensor] = \u001b[38;5;28;01mNone\u001b[39;00m, return_latent: \u001b[38;5;28mbool\u001b[39m = \u001b[38;5;28;01mFalse\u001b[39;00m):\n\u001b[32m--> \u001b[39m\u001b[32m177\u001b[39m     per_point = \u001b[38;5;28;43mself\u001b[39;49m\u001b[43m.\u001b[49m\u001b[43mencoder\u001b[49m\u001b[43m(\u001b[49m\u001b[43mxyz\u001b[49m\u001b[43m,\u001b[49m\u001b[43m \u001b[49m\u001b[43mfeats\u001b[49m\u001b[43m)\u001b[49m\n\u001b[32m    178\u001b[39m     latent = \u001b[38;5;28mself\u001b[39m.readout(per_point)\n\u001b[32m    179\u001b[39m     \u001b[38;5;28;01mif\u001b[39;00m \u001b[38;5;28mself\u001b[39m.reg_head \u001b[38;5;129;01mis\u001b[39;00m \u001b[38;5;28;01mNone\u001b[39;00m:\n",
      "\u001b[36mFile \u001b[39m\u001b[32m~/miniforge3/envs/pct/lib/python3.13/site-packages/torch/nn/modules/module.py:1773\u001b[39m, in \u001b[36mModule._wrapped_call_impl\u001b[39m\u001b[34m(self, *args, **kwargs)\u001b[39m\n\u001b[32m   1771\u001b[39m     \u001b[38;5;28;01mreturn\u001b[39;00m \u001b[38;5;28mself\u001b[39m._compiled_call_impl(*args, **kwargs)  \u001b[38;5;66;03m# type: ignore[misc]\u001b[39;00m\n\u001b[32m   1772\u001b[39m \u001b[38;5;28;01melse\u001b[39;00m:\n\u001b[32m-> \u001b[39m\u001b[32m1773\u001b[39m     \u001b[38;5;28;01mreturn\u001b[39;00m \u001b[38;5;28;43mself\u001b[39;49m\u001b[43m.\u001b[49m\u001b[43m_call_impl\u001b[49m\u001b[43m(\u001b[49m\u001b[43m*\u001b[49m\u001b[43margs\u001b[49m\u001b[43m,\u001b[49m\u001b[43m \u001b[49m\u001b[43m*\u001b[49m\u001b[43m*\u001b[49m\u001b[43mkwargs\u001b[49m\u001b[43m)\u001b[49m\n",
      "\u001b[36mFile \u001b[39m\u001b[32m~/miniforge3/envs/pct/lib/python3.13/site-packages/torch/nn/modules/module.py:1784\u001b[39m, in \u001b[36mModule._call_impl\u001b[39m\u001b[34m(self, *args, **kwargs)\u001b[39m\n\u001b[32m   1779\u001b[39m \u001b[38;5;66;03m# If we don't have any hooks, we want to skip the rest of the logic in\u001b[39;00m\n\u001b[32m   1780\u001b[39m \u001b[38;5;66;03m# this function, and just call forward.\u001b[39;00m\n\u001b[32m   1781\u001b[39m \u001b[38;5;28;01mif\u001b[39;00m \u001b[38;5;129;01mnot\u001b[39;00m (\u001b[38;5;28mself\u001b[39m._backward_hooks \u001b[38;5;129;01mor\u001b[39;00m \u001b[38;5;28mself\u001b[39m._backward_pre_hooks \u001b[38;5;129;01mor\u001b[39;00m \u001b[38;5;28mself\u001b[39m._forward_hooks \u001b[38;5;129;01mor\u001b[39;00m \u001b[38;5;28mself\u001b[39m._forward_pre_hooks\n\u001b[32m   1782\u001b[39m         \u001b[38;5;129;01mor\u001b[39;00m _global_backward_pre_hooks \u001b[38;5;129;01mor\u001b[39;00m _global_backward_hooks\n\u001b[32m   1783\u001b[39m         \u001b[38;5;129;01mor\u001b[39;00m _global_forward_hooks \u001b[38;5;129;01mor\u001b[39;00m _global_forward_pre_hooks):\n\u001b[32m-> \u001b[39m\u001b[32m1784\u001b[39m     \u001b[38;5;28;01mreturn\u001b[39;00m \u001b[43mforward_call\u001b[49m\u001b[43m(\u001b[49m\u001b[43m*\u001b[49m\u001b[43margs\u001b[49m\u001b[43m,\u001b[49m\u001b[43m \u001b[49m\u001b[43m*\u001b[49m\u001b[43m*\u001b[49m\u001b[43mkwargs\u001b[49m\u001b[43m)\u001b[49m\n\u001b[32m   1786\u001b[39m result = \u001b[38;5;28;01mNone\u001b[39;00m\n\u001b[32m   1787\u001b[39m called_always_called_hooks = \u001b[38;5;28mset\u001b[39m()\n",
      "\u001b[36mFile \u001b[39m\u001b[32m~/miniforge3/envs/pct/lib/python3.13/site-packages/pct/model.py:134\u001b[39m, in \u001b[36mPointTransformerEncoder.forward\u001b[39m\u001b[34m(self, xyz, feats)\u001b[39m\n\u001b[32m    132\u001b[39m x = \u001b[38;5;28mself\u001b[39m.input_proj(feats)\n\u001b[32m    133\u001b[39m \u001b[38;5;28;01mfor\u001b[39;00m blk \u001b[38;5;129;01min\u001b[39;00m \u001b[38;5;28mself\u001b[39m.blocks:\n\u001b[32m--> \u001b[39m\u001b[32m134\u001b[39m     x = \u001b[43mblk\u001b[49m\u001b[43m(\u001b[49m\u001b[43mxyz\u001b[49m\u001b[43m,\u001b[49m\u001b[43m \u001b[49m\u001b[43mx\u001b[49m\u001b[43m)\u001b[49m\n\u001b[32m    135\u001b[39m \u001b[38;5;28;01mreturn\u001b[39;00m \u001b[38;5;28mself\u001b[39m.out_norm(x)\n",
      "\u001b[36mFile \u001b[39m\u001b[32m~/miniforge3/envs/pct/lib/python3.13/site-packages/torch/nn/modules/module.py:1773\u001b[39m, in \u001b[36mModule._wrapped_call_impl\u001b[39m\u001b[34m(self, *args, **kwargs)\u001b[39m\n\u001b[32m   1771\u001b[39m     \u001b[38;5;28;01mreturn\u001b[39;00m \u001b[38;5;28mself\u001b[39m._compiled_call_impl(*args, **kwargs)  \u001b[38;5;66;03m# type: ignore[misc]\u001b[39;00m\n\u001b[32m   1772\u001b[39m \u001b[38;5;28;01melse\u001b[39;00m:\n\u001b[32m-> \u001b[39m\u001b[32m1773\u001b[39m     \u001b[38;5;28;01mreturn\u001b[39;00m \u001b[38;5;28;43mself\u001b[39;49m\u001b[43m.\u001b[49m\u001b[43m_call_impl\u001b[49m\u001b[43m(\u001b[49m\u001b[43m*\u001b[49m\u001b[43margs\u001b[49m\u001b[43m,\u001b[49m\u001b[43m \u001b[49m\u001b[43m*\u001b[49m\u001b[43m*\u001b[49m\u001b[43mkwargs\u001b[49m\u001b[43m)\u001b[49m\n",
      "\u001b[36mFile \u001b[39m\u001b[32m~/miniforge3/envs/pct/lib/python3.13/site-packages/torch/nn/modules/module.py:1784\u001b[39m, in \u001b[36mModule._call_impl\u001b[39m\u001b[34m(self, *args, **kwargs)\u001b[39m\n\u001b[32m   1779\u001b[39m \u001b[38;5;66;03m# If we don't have any hooks, we want to skip the rest of the logic in\u001b[39;00m\n\u001b[32m   1780\u001b[39m \u001b[38;5;66;03m# this function, and just call forward.\u001b[39;00m\n\u001b[32m   1781\u001b[39m \u001b[38;5;28;01mif\u001b[39;00m \u001b[38;5;129;01mnot\u001b[39;00m (\u001b[38;5;28mself\u001b[39m._backward_hooks \u001b[38;5;129;01mor\u001b[39;00m \u001b[38;5;28mself\u001b[39m._backward_pre_hooks \u001b[38;5;129;01mor\u001b[39;00m \u001b[38;5;28mself\u001b[39m._forward_hooks \u001b[38;5;129;01mor\u001b[39;00m \u001b[38;5;28mself\u001b[39m._forward_pre_hooks\n\u001b[32m   1782\u001b[39m         \u001b[38;5;129;01mor\u001b[39;00m _global_backward_pre_hooks \u001b[38;5;129;01mor\u001b[39;00m _global_backward_hooks\n\u001b[32m   1783\u001b[39m         \u001b[38;5;129;01mor\u001b[39;00m _global_forward_hooks \u001b[38;5;129;01mor\u001b[39;00m _global_forward_pre_hooks):\n\u001b[32m-> \u001b[39m\u001b[32m1784\u001b[39m     \u001b[38;5;28;01mreturn\u001b[39;00m \u001b[43mforward_call\u001b[49m\u001b[43m(\u001b[49m\u001b[43m*\u001b[49m\u001b[43margs\u001b[49m\u001b[43m,\u001b[49m\u001b[43m \u001b[49m\u001b[43m*\u001b[49m\u001b[43m*\u001b[49m\u001b[43mkwargs\u001b[49m\u001b[43m)\u001b[49m\n\u001b[32m   1786\u001b[39m result = \u001b[38;5;28;01mNone\u001b[39;00m\n\u001b[32m   1787\u001b[39m called_always_called_hooks = \u001b[38;5;28mset\u001b[39m()\n",
      "\u001b[36mFile \u001b[39m\u001b[32m~/miniforge3/envs/pct/lib/python3.13/site-packages/pct/model.py:97\u001b[39m, in \u001b[36mPointTransformerBlock.forward\u001b[39m\u001b[34m(self, xyz, feats)\u001b[39m\n\u001b[32m     95\u001b[39m attn = torch.einsum(\u001b[33m'\u001b[39m\u001b[33mbhnc,bhnkc->bhnk\u001b[39m\u001b[33m'\u001b[39m, qh, kh) / math.sqrt(\u001b[38;5;28mself\u001b[39m.d_head)  \u001b[38;5;66;03m# (B, nH, N, k)\u001b[39;00m\n\u001b[32m     96\u001b[39m attn = F.softmax(attn, dim=-\u001b[32m1\u001b[39m)\n\u001b[32m---> \u001b[39m\u001b[32m97\u001b[39m out = \u001b[43mtorch\u001b[49m\u001b[43m.\u001b[49m\u001b[43meinsum\u001b[49m\u001b[43m(\u001b[49m\u001b[33;43m'\u001b[39;49m\u001b[33;43mbhnk,bhnkc->bhnc\u001b[39;49m\u001b[33;43m'\u001b[39;49m\u001b[43m,\u001b[49m\u001b[43m \u001b[49m\u001b[43mattn\u001b[49m\u001b[43m,\u001b[49m\u001b[43m \u001b[49m\u001b[43mvh\u001b[49m\u001b[43m)\u001b[49m  \u001b[38;5;66;03m# (B, nH, N, dH)\u001b[39;00m\n\u001b[32m     99\u001b[39m out = out.permute(\u001b[32m0\u001b[39m, \u001b[32m2\u001b[39m, \u001b[32m1\u001b[39m, \u001b[32m3\u001b[39m).contiguous().view(B, N, -\u001b[32m1\u001b[39m)  \u001b[38;5;66;03m# (B, N, d)\u001b[39;00m\n\u001b[32m    100\u001b[39m out = \u001b[38;5;28mself\u001b[39m.attn_out(out)\n",
      "\u001b[36mFile \u001b[39m\u001b[32m~/miniforge3/envs/pct/lib/python3.13/site-packages/torch/functional.py:422\u001b[39m, in \u001b[36meinsum\u001b[39m\u001b[34m(*args)\u001b[39m\n\u001b[32m    417\u001b[39m     \u001b[38;5;28;01mreturn\u001b[39;00m einsum(equation, *_operands)\n\u001b[32m    419\u001b[39m \u001b[38;5;28;01mif\u001b[39;00m \u001b[38;5;28mlen\u001b[39m(operands) <= \u001b[32m2\u001b[39m \u001b[38;5;129;01mor\u001b[39;00m \u001b[38;5;129;01mnot\u001b[39;00m opt_einsum.enabled:\n\u001b[32m    420\u001b[39m     \u001b[38;5;66;03m# the path for contracting 0 or 1 time(s) is already optimized\u001b[39;00m\n\u001b[32m    421\u001b[39m     \u001b[38;5;66;03m# or the user has disabled using opt_einsum\u001b[39;00m\n\u001b[32m--> \u001b[39m\u001b[32m422\u001b[39m     \u001b[38;5;28;01mreturn\u001b[39;00m \u001b[43m_VF\u001b[49m\u001b[43m.\u001b[49m\u001b[43meinsum\u001b[49m\u001b[43m(\u001b[49m\u001b[43mequation\u001b[49m\u001b[43m,\u001b[49m\u001b[43m \u001b[49m\u001b[43moperands\u001b[49m\u001b[43m)\u001b[49m  \u001b[38;5;66;03m# type: ignore[attr-defined]\u001b[39;00m\n\u001b[32m    424\u001b[39m path = \u001b[38;5;28;01mNone\u001b[39;00m\n\u001b[32m    425\u001b[39m \u001b[38;5;28;01mif\u001b[39;00m opt_einsum.is_available():\n",
      "\u001b[31mKeyboardInterrupt\u001b[39m: "
     ]
    }
   ],
   "source": [
    "pct.train_regression(model, train_loader, val_loader, epochs=pct.TrainConfig.epochs, lr=pct.TrainConfig.lr)"
   ]
  },
  {
   "cell_type": "code",
   "execution_count": 6,
   "id": "346c1e05",
   "metadata": {},
   "outputs": [
    {
     "data": {
      "application/vnd.plotly.v1+json": {
       "config": {
        "plotlyServerURL": "https://plot.ly"
       },
       "data": [
        {
         "marker": {
          "color": {
           "bdata": "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",
           "dtype": "f4"
          },
          "colorscale": [
           [
            0,
            "#440154"
           ],
           [
            0.1111111111111111,
            "#482878"
           ],
           [
            0.2222222222222222,
            "#3e4989"
           ],
           [
            0.3333333333333333,
            "#31688e"
           ],
           [
            0.4444444444444444,
            "#26828e"
           ],
           [
            0.5555555555555556,
            "#1f9e89"
           ],
           [
            0.6666666666666666,
            "#35b779"
           ],
           [
            0.7777777777777778,
            "#6ece58"
           ],
           [
            0.8888888888888888,
            "#b5de2b"
           ],
           [
            1,
            "#fde725"
           ]
          ],
          "opacity": 0.8,
          "size": 3
         },
         "mode": "markers",
         "type": "scatter3d",
         "x": {
          "bdata": "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",
          "dtype": "f4"
         },
         "y": {
          "bdata": "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",
          "dtype": "f4"
         },
         "z": {
          "bdata": "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",
          "dtype": "f4"
         }
        }
       ],
       "layout": {
        "margin": {
         "b": 0,
         "l": 0,
         "r": 0,
         "t": 30
        },
        "scene": {
         "xaxis": {
          "title": {
           "text": "X"
          }
         },
         "yaxis": {
          "title": {
           "text": "Y"
          }
         },
         "zaxis": {
          "title": {
           "text": "Z"
          }
         }
        },
        "template": {
         "data": {
          "bar": [
           {
            "error_x": {
             "color": "#2a3f5f"
            },
            "error_y": {
             "color": "#2a3f5f"
            },
            "marker": {
             "line": {
              "color": "#E5ECF6",
              "width": 0.5
             },
             "pattern": {
              "fillmode": "overlay",
              "size": 10,
              "solidity": 0.2
             }
            },
            "type": "bar"
           }
          ],
          "barpolar": [
           {
            "marker": {
             "line": {
              "color": "#E5ECF6",
              "width": 0.5
             },
             "pattern": {
              "fillmode": "overlay",
              "size": 10,
              "solidity": 0.2
             }
            },
            "type": "barpolar"
           }
          ],
          "carpet": [
           {
            "aaxis": {
             "endlinecolor": "#2a3f5f",
             "gridcolor": "white",
             "linecolor": "white",
             "minorgridcolor": "white",
             "startlinecolor": "#2a3f5f"
            },
            "baxis": {
             "endlinecolor": "#2a3f5f",
             "gridcolor": "white",
             "linecolor": "white",
             "minorgridcolor": "white",
             "startlinecolor": "#2a3f5f"
            },
            "type": "carpet"
           }
          ],
          "choropleth": [
           {
            "colorbar": {
             "outlinewidth": 0,
             "ticks": ""
            },
            "type": "choropleth"
           }
          ],
          "contour": [
           {
            "colorbar": {
             "outlinewidth": 0,
             "ticks": ""
            },
            "colorscale": [
             [
              0,
              "#0d0887"
             ],
             [
              0.1111111111111111,
              "#46039f"
             ],
             [
              0.2222222222222222,
              "#7201a8"
             ],
             [
              0.3333333333333333,
              "#9c179e"
             ],
             [
              0.4444444444444444,
              "#bd3786"
             ],
             [
              0.5555555555555556,
              "#d8576b"
             ],
             [
              0.6666666666666666,
              "#ed7953"
             ],
             [
              0.7777777777777778,
              "#fb9f3a"
             ],
             [
              0.8888888888888888,
              "#fdca26"
             ],
             [
              1,
              "#f0f921"
             ]
            ],
            "type": "contour"
           }
          ],
          "contourcarpet": [
           {
            "colorbar": {
             "outlinewidth": 0,
             "ticks": ""
            },
            "type": "contourcarpet"
           }
          ],
          "heatmap": [
           {
            "colorbar": {
             "outlinewidth": 0,
             "ticks": ""
            },
            "colorscale": [
             [
              0,
              "#0d0887"
             ],
             [
              0.1111111111111111,
              "#46039f"
             ],
             [
              0.2222222222222222,
              "#7201a8"
             ],
             [
              0.3333333333333333,
              "#9c179e"
             ],
             [
              0.4444444444444444,
              "#bd3786"
             ],
             [
              0.5555555555555556,
              "#d8576b"
             ],
             [
              0.6666666666666666,
              "#ed7953"
             ],
             [
              0.7777777777777778,
              "#fb9f3a"
             ],
             [
              0.8888888888888888,
              "#fdca26"
             ],
             [
              1,
              "#f0f921"
             ]
            ],
            "type": "heatmap"
           }
          ],
          "histogram": [
           {
            "marker": {
             "pattern": {
              "fillmode": "overlay",
              "size": 10,
              "solidity": 0.2
             }
            },
            "type": "histogram"
           }
          ],
          "histogram2d": [
           {
            "colorbar": {
             "outlinewidth": 0,
             "ticks": ""
            },
            "colorscale": [
             [
              0,
              "#0d0887"
             ],
             [
              0.1111111111111111,
              "#46039f"
             ],
             [
              0.2222222222222222,
              "#7201a8"
             ],
             [
              0.3333333333333333,
              "#9c179e"
             ],
             [
              0.4444444444444444,
              "#bd3786"
             ],
             [
              0.5555555555555556,
              "#d8576b"
             ],
             [
              0.6666666666666666,
              "#ed7953"
             ],
             [
              0.7777777777777778,
              "#fb9f3a"
             ],
             [
              0.8888888888888888,
              "#fdca26"
             ],
             [
              1,
              "#f0f921"
             ]
            ],
            "type": "histogram2d"
           }
          ],
          "histogram2dcontour": [
           {
            "colorbar": {
             "outlinewidth": 0,
             "ticks": ""
            },
            "colorscale": [
             [
              0,
              "#0d0887"
             ],
             [
              0.1111111111111111,
              "#46039f"
             ],
             [
              0.2222222222222222,
              "#7201a8"
             ],
             [
              0.3333333333333333,
              "#9c179e"
             ],
             [
              0.4444444444444444,
              "#bd3786"
             ],
             [
              0.5555555555555556,
              "#d8576b"
             ],
             [
              0.6666666666666666,
              "#ed7953"
             ],
             [
              0.7777777777777778,
              "#fb9f3a"
             ],
             [
              0.8888888888888888,
              "#fdca26"
             ],
             [
              1,
              "#f0f921"
             ]
            ],
            "type": "histogram2dcontour"
           }
          ],
          "mesh3d": [
           {
            "colorbar": {
             "outlinewidth": 0,
             "ticks": ""
            },
            "type": "mesh3d"
           }
          ],
          "parcoords": [
           {
            "line": {
             "colorbar": {
              "outlinewidth": 0,
              "ticks": ""
             }
            },
            "type": "parcoords"
           }
          ],
          "pie": [
           {
            "automargin": true,
            "type": "pie"
           }
          ],
          "scatter": [
           {
            "fillpattern": {
             "fillmode": "overlay",
             "size": 10,
             "solidity": 0.2
            },
            "type": "scatter"
           }
          ],
          "scatter3d": [
           {
            "line": {
             "colorbar": {
              "outlinewidth": 0,
              "ticks": ""
             }
            },
            "marker": {
             "colorbar": {
              "outlinewidth": 0,
              "ticks": ""
             }
            },
            "type": "scatter3d"
           }
          ],
          "scattercarpet": [
           {
            "marker": {
             "colorbar": {
              "outlinewidth": 0,
              "ticks": ""
             }
            },
            "type": "scattercarpet"
           }
          ],
          "scattergeo": [
           {
            "marker": {
             "colorbar": {
              "outlinewidth": 0,
              "ticks": ""
             }
            },
            "type": "scattergeo"
           }
          ],
          "scattergl": [
           {
            "marker": {
             "colorbar": {
              "outlinewidth": 0,
              "ticks": ""
             }
            },
            "type": "scattergl"
           }
          ],
          "scattermap": [
           {
            "marker": {
             "colorbar": {
              "outlinewidth": 0,
              "ticks": ""
             }
            },
            "type": "scattermap"
           }
          ],
          "scattermapbox": [
           {
            "marker": {
             "colorbar": {
              "outlinewidth": 0,
              "ticks": ""
             }
            },
            "type": "scattermapbox"
           }
          ],
          "scatterpolar": [
           {
            "marker": {
             "colorbar": {
              "outlinewidth": 0,
              "ticks": ""
             }
            },
            "type": "scatterpolar"
           }
          ],
          "scatterpolargl": [
           {
            "marker": {
             "colorbar": {
              "outlinewidth": 0,
              "ticks": ""
             }
            },
            "type": "scatterpolargl"
           }
          ],
          "scatterternary": [
           {
            "marker": {
             "colorbar": {
              "outlinewidth": 0,
              "ticks": ""
             }
            },
            "type": "scatterternary"
           }
          ],
          "surface": [
           {
            "colorbar": {
             "outlinewidth": 0,
             "ticks": ""
            },
            "colorscale": [
             [
              0,
              "#0d0887"
             ],
             [
              0.1111111111111111,
              "#46039f"
             ],
             [
              0.2222222222222222,
              "#7201a8"
             ],
             [
              0.3333333333333333,
              "#9c179e"
             ],
             [
              0.4444444444444444,
              "#bd3786"
             ],
             [
              0.5555555555555556,
              "#d8576b"
             ],
             [
              0.6666666666666666,
              "#ed7953"
             ],
             [
              0.7777777777777778,
              "#fb9f3a"
             ],
             [
              0.8888888888888888,
              "#fdca26"
             ],
             [
              1,
              "#f0f921"
             ]
            ],
            "type": "surface"
           }
          ],
          "table": [
           {
            "cells": {
             "fill": {
              "color": "#EBF0F8"
             },
             "line": {
              "color": "white"
             }
            },
            "header": {
             "fill": {
              "color": "#C8D4E3"
             },
             "line": {
              "color": "white"
             }
            },
            "type": "table"
           }
          ]
         },
         "layout": {
          "annotationdefaults": {
           "arrowcolor": "#2a3f5f",
           "arrowhead": 0,
           "arrowwidth": 1
          },
          "autotypenumbers": "strict",
          "coloraxis": {
           "colorbar": {
            "outlinewidth": 0,
            "ticks": ""
           }
          },
          "colorscale": {
           "diverging": [
            [
             0,
             "#8e0152"
            ],
            [
             0.1,
             "#c51b7d"
            ],
            [
             0.2,
             "#de77ae"
            ],
            [
             0.3,
             "#f1b6da"
            ],
            [
             0.4,
             "#fde0ef"
            ],
            [
             0.5,
             "#f7f7f7"
            ],
            [
             0.6,
             "#e6f5d0"
            ],
            [
             0.7,
             "#b8e186"
            ],
            [
             0.8,
             "#7fbc41"
            ],
            [
             0.9,
             "#4d9221"
            ],
            [
             1,
             "#276419"
            ]
           ],
           "sequential": [
            [
             0,
             "#0d0887"
            ],
            [
             0.1111111111111111,
             "#46039f"
            ],
            [
             0.2222222222222222,
             "#7201a8"
            ],
            [
             0.3333333333333333,
             "#9c179e"
            ],
            [
             0.4444444444444444,
             "#bd3786"
            ],
            [
             0.5555555555555556,
             "#d8576b"
            ],
            [
             0.6666666666666666,
             "#ed7953"
            ],
            [
             0.7777777777777778,
             "#fb9f3a"
            ],
            [
             0.8888888888888888,
             "#fdca26"
            ],
            [
             1,
             "#f0f921"
            ]
           ],
           "sequentialminus": [
            [
             0,
             "#0d0887"
            ],
            [
             0.1111111111111111,
             "#46039f"
            ],
            [
             0.2222222222222222,
             "#7201a8"
            ],
            [
             0.3333333333333333,
             "#9c179e"
            ],
            [
             0.4444444444444444,
             "#bd3786"
            ],
            [
             0.5555555555555556,
             "#d8576b"
            ],
            [
             0.6666666666666666,
             "#ed7953"
            ],
            [
             0.7777777777777778,
             "#fb9f3a"
            ],
            [
             0.8888888888888888,
             "#fdca26"
            ],
            [
             1,
             "#f0f921"
            ]
           ]
          },
          "colorway": [
           "#636efa",
           "#EF553B",
           "#00cc96",
           "#ab63fa",
           "#FFA15A",
           "#19d3f3",
           "#FF6692",
           "#B6E880",
           "#FF97FF",
           "#FECB52"
          ],
          "font": {
           "color": "#2a3f5f"
          },
          "geo": {
           "bgcolor": "white",
           "lakecolor": "white",
           "landcolor": "#E5ECF6",
           "showlakes": true,
           "showland": true,
           "subunitcolor": "white"
          },
          "hoverlabel": {
           "align": "left"
          },
          "hovermode": "closest",
          "mapbox": {
           "style": "light"
          },
          "paper_bgcolor": "white",
          "plot_bgcolor": "#E5ECF6",
          "polar": {
           "angularaxis": {
            "gridcolor": "white",
            "linecolor": "white",
            "ticks": ""
           },
           "bgcolor": "#E5ECF6",
           "radialaxis": {
            "gridcolor": "white",
            "linecolor": "white",
            "ticks": ""
           }
          },
          "scene": {
           "xaxis": {
            "backgroundcolor": "#E5ECF6",
            "gridcolor": "white",
            "gridwidth": 2,
            "linecolor": "white",
            "showbackground": true,
            "ticks": "",
            "zerolinecolor": "white"
           },
           "yaxis": {
            "backgroundcolor": "#E5ECF6",
            "gridcolor": "white",
            "gridwidth": 2,
            "linecolor": "white",
            "showbackground": true,
            "ticks": "",
            "zerolinecolor": "white"
           },
           "zaxis": {
            "backgroundcolor": "#E5ECF6",
            "gridcolor": "white",
            "gridwidth": 2,
            "linecolor": "white",
            "showbackground": true,
            "ticks": "",
            "zerolinecolor": "white"
           }
          },
          "shapedefaults": {
           "line": {
            "color": "#2a3f5f"
           }
          },
          "ternary": {
           "aaxis": {
            "gridcolor": "white",
            "linecolor": "white",
            "ticks": ""
           },
           "baxis": {
            "gridcolor": "white",
            "linecolor": "white",
            "ticks": ""
           },
           "bgcolor": "#E5ECF6",
           "caxis": {
            "gridcolor": "white",
            "linecolor": "white",
            "ticks": ""
           }
          },
          "title": {
           "x": 0.05
          },
          "xaxis": {
           "automargin": true,
           "gridcolor": "white",
           "linecolor": "white",
           "ticks": "",
           "title": {
            "standoff": 15
           },
           "zerolinecolor": "white",
           "zerolinewidth": 2
          },
          "yaxis": {
           "automargin": true,
           "gridcolor": "white",
           "linecolor": "white",
           "ticks": "",
           "title": {
            "standoff": 15
           },
           "zerolinecolor": "white",
           "zerolinewidth": 2
          }
         }
        },
        "title": {
         "text": "Noisy Sphere (r=0.71)"
        }
       }
      }
     },
     "metadata": {},
     "output_type": "display_data"
    }
   ],
   "source": [
    "points, targets = train_ds[2]\n",
    "\n",
    "pct.visualize_point_cloud(points, title=f\"Noisy Sphere (r={targets.item():.2f})\")"
   ]
  }
 ],
 "metadata": {
  "kernelspec": {
   "display_name": "pct",
   "language": "python",
   "name": "python3"
  },
  "language_info": {
   "codemirror_mode": {
    "name": "ipython",
    "version": 3
   },
   "file_extension": ".py",
   "mimetype": "text/x-python",
   "name": "python",
   "nbconvert_exporter": "python",
   "pygments_lexer": "ipython3",
   "version": "3.13.5"
  }
 },
 "nbformat": 4,
 "nbformat_minor": 5
}
