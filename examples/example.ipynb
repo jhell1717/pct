{
 "cells": [
  {
   "cell_type": "code",
   "execution_count": 1,
   "id": "3099ad42",
   "metadata": {},
   "outputs": [],
   "source": [
    "import pct\n",
    "from torch.utils.data import Dataset, DataLoader"
   ]
  },
  {
   "cell_type": "code",
   "execution_count": 2,
   "id": "f8ba6a4f",
   "metadata": {},
   "outputs": [],
   "source": [
    "train_ds = pct.DummyPointCloudDataset(n_samples=800, n_points=512)\n",
    "val_ds = pct.DummyPointCloudDataset(n_samples=200, n_points=512)\n",
    "\n",
    "train_loader = DataLoader(train_ds, batch_size=pct.TrainConfig.batch_size, shuffle=True, num_workers=0, collate_fn=pct.collate_batch)\n",
    "val_loader = DataLoader(val_ds, batch_size=pct.TrainConfig.batch_size, shuffle=False, num_workers=0, collate_fn=pct.collate_batch)"
   ]
  },
  {
   "cell_type": "code",
   "execution_count": 3,
   "id": "662414c5",
   "metadata": {},
   "outputs": [],
   "source": [
    "model = pct.PointCloudTransformer(\n",
    "        in_channels=3,\n",
    "        d_model=pct.TrainConfig.d_model,\n",
    "        depth=pct.TrainConfig.depth,\n",
    "        n_heads=pct.TrainConfig.n_heads,\n",
    "        k=pct.TrainConfig.k,\n",
    "        latent_dim=pct.TrainConfig.latent_dim,\n",
    "        out_dim=pct.TrainConfig.out_dim,\n",
    "        drop=pct.TrainConfig.drop,\n",
    "    )"
   ]
  },
  {
   "cell_type": "code",
   "execution_count": 4,
   "id": "6b43bf0f",
   "metadata": {},
   "outputs": [
    {
     "name": "stderr",
     "output_type": "stream",
     "text": [
      "/Users/joshuahellewell/miniforge3/envs/pct/lib/python3.13/site-packages/pct/trainer.py:37: FutureWarning: `torch.cuda.amp.GradScaler(args...)` is deprecated. Please use `torch.amp.GradScaler('cuda', args...)` instead.\n",
      "  scaler = torch.cuda.amp.GradScaler(enabled=(device.startswith('cuda')))\n",
      "/Users/joshuahellewell/miniforge3/envs/pct/lib/python3.13/site-packages/pct/trainer.py:47: FutureWarning: `torch.cuda.amp.autocast(args...)` is deprecated. Please use `torch.amp.autocast('cuda', args...)` instead.\n",
      "  with torch.cuda.amp.autocast(enabled=(device.startswith('cuda'))):\n",
      "/Users/joshuahellewell/miniforge3/envs/pct/lib/python3.13/site-packages/pct/trainer.py:63: FutureWarning: `torch.cuda.amp.autocast(args...)` is deprecated. Please use `torch.amp.autocast('cuda', args...)` instead.\n",
      "  with torch.cuda.amp.autocast(enabled=(device.startswith('cuda'))):\n"
     ]
    },
    {
     "name": "stdout",
     "output_type": "stream",
     "text": [
      "Epoch 001 | train 0.0314 | val 0.0004\n"
     ]
    },
    {
     "ename": "KeyboardInterrupt",
     "evalue": "",
     "output_type": "error",
     "traceback": [
      "\u001b[31m---------------------------------------------------------------------------\u001b[39m",
      "\u001b[31mKeyboardInterrupt\u001b[39m                         Traceback (most recent call last)",
      "\u001b[36mCell\u001b[39m\u001b[36m \u001b[39m\u001b[32mIn[4]\u001b[39m\u001b[32m, line 1\u001b[39m\n\u001b[32m----> \u001b[39m\u001b[32m1\u001b[39m \u001b[43mpct\u001b[49m\u001b[43m.\u001b[49m\u001b[43mtrain_regression\u001b[49m\u001b[43m(\u001b[49m\u001b[43mmodel\u001b[49m\u001b[43m,\u001b[49m\u001b[43m \u001b[49m\u001b[43mtrain_loader\u001b[49m\u001b[43m,\u001b[49m\u001b[43m \u001b[49m\u001b[43mval_loader\u001b[49m\u001b[43m,\u001b[49m\u001b[43m \u001b[49m\u001b[43mepochs\u001b[49m\u001b[43m=\u001b[49m\u001b[43mpct\u001b[49m\u001b[43m.\u001b[49m\u001b[43mTrainConfig\u001b[49m\u001b[43m.\u001b[49m\u001b[43mepochs\u001b[49m\u001b[43m,\u001b[49m\u001b[43m \u001b[49m\u001b[43mlr\u001b[49m\u001b[43m=\u001b[49m\u001b[43mpct\u001b[49m\u001b[43m.\u001b[49m\u001b[43mTrainConfig\u001b[49m\u001b[43m.\u001b[49m\u001b[43mlr\u001b[49m\u001b[43m)\u001b[49m\n",
      "\u001b[36mFile \u001b[39m\u001b[32m~/miniforge3/envs/pct/lib/python3.13/site-packages/pct/trainer.py:48\u001b[39m, in \u001b[36mtrain_regression\u001b[39m\u001b[34m(model, train_loader, val_loader, epochs, lr, device)\u001b[39m\n\u001b[32m     46\u001b[39m opt.zero_grad(set_to_none=\u001b[38;5;28;01mTrue\u001b[39;00m)\n\u001b[32m     47\u001b[39m \u001b[38;5;28;01mwith\u001b[39;00m torch.cuda.amp.autocast(enabled=(device.startswith(\u001b[33m'\u001b[39m\u001b[33mcuda\u001b[39m\u001b[33m'\u001b[39m))):\n\u001b[32m---> \u001b[39m\u001b[32m48\u001b[39m     pred = \u001b[43mmodel\u001b[49m\u001b[43m(\u001b[49m\u001b[43mxyz\u001b[49m\u001b[43m)\u001b[49m\n\u001b[32m     49\u001b[39m     loss = F.mse_loss(pred, y)\n\u001b[32m     50\u001b[39m scaler.scale(loss).backward()\n",
      "\u001b[36mFile \u001b[39m\u001b[32m~/miniforge3/envs/pct/lib/python3.13/site-packages/torch/nn/modules/module.py:1773\u001b[39m, in \u001b[36mModule._wrapped_call_impl\u001b[39m\u001b[34m(self, *args, **kwargs)\u001b[39m\n\u001b[32m   1771\u001b[39m     \u001b[38;5;28;01mreturn\u001b[39;00m \u001b[38;5;28mself\u001b[39m._compiled_call_impl(*args, **kwargs)  \u001b[38;5;66;03m# type: ignore[misc]\u001b[39;00m\n\u001b[32m   1772\u001b[39m \u001b[38;5;28;01melse\u001b[39;00m:\n\u001b[32m-> \u001b[39m\u001b[32m1773\u001b[39m     \u001b[38;5;28;01mreturn\u001b[39;00m \u001b[38;5;28;43mself\u001b[39;49m\u001b[43m.\u001b[49m\u001b[43m_call_impl\u001b[49m\u001b[43m(\u001b[49m\u001b[43m*\u001b[49m\u001b[43margs\u001b[49m\u001b[43m,\u001b[49m\u001b[43m \u001b[49m\u001b[43m*\u001b[49m\u001b[43m*\u001b[49m\u001b[43mkwargs\u001b[49m\u001b[43m)\u001b[49m\n",
      "\u001b[36mFile \u001b[39m\u001b[32m~/miniforge3/envs/pct/lib/python3.13/site-packages/torch/nn/modules/module.py:1784\u001b[39m, in \u001b[36mModule._call_impl\u001b[39m\u001b[34m(self, *args, **kwargs)\u001b[39m\n\u001b[32m   1779\u001b[39m \u001b[38;5;66;03m# If we don't have any hooks, we want to skip the rest of the logic in\u001b[39;00m\n\u001b[32m   1780\u001b[39m \u001b[38;5;66;03m# this function, and just call forward.\u001b[39;00m\n\u001b[32m   1781\u001b[39m \u001b[38;5;28;01mif\u001b[39;00m \u001b[38;5;129;01mnot\u001b[39;00m (\u001b[38;5;28mself\u001b[39m._backward_hooks \u001b[38;5;129;01mor\u001b[39;00m \u001b[38;5;28mself\u001b[39m._backward_pre_hooks \u001b[38;5;129;01mor\u001b[39;00m \u001b[38;5;28mself\u001b[39m._forward_hooks \u001b[38;5;129;01mor\u001b[39;00m \u001b[38;5;28mself\u001b[39m._forward_pre_hooks\n\u001b[32m   1782\u001b[39m         \u001b[38;5;129;01mor\u001b[39;00m _global_backward_pre_hooks \u001b[38;5;129;01mor\u001b[39;00m _global_backward_hooks\n\u001b[32m   1783\u001b[39m         \u001b[38;5;129;01mor\u001b[39;00m _global_forward_hooks \u001b[38;5;129;01mor\u001b[39;00m _global_forward_pre_hooks):\n\u001b[32m-> \u001b[39m\u001b[32m1784\u001b[39m     \u001b[38;5;28;01mreturn\u001b[39;00m \u001b[43mforward_call\u001b[49m\u001b[43m(\u001b[49m\u001b[43m*\u001b[49m\u001b[43margs\u001b[49m\u001b[43m,\u001b[49m\u001b[43m \u001b[49m\u001b[43m*\u001b[49m\u001b[43m*\u001b[49m\u001b[43mkwargs\u001b[49m\u001b[43m)\u001b[49m\n\u001b[32m   1786\u001b[39m result = \u001b[38;5;28;01mNone\u001b[39;00m\n\u001b[32m   1787\u001b[39m called_always_called_hooks = \u001b[38;5;28mset\u001b[39m()\n",
      "\u001b[36mFile \u001b[39m\u001b[32m~/miniforge3/envs/pct/lib/python3.13/site-packages/pct/model.py:177\u001b[39m, in \u001b[36mPointCloudTransformer.forward\u001b[39m\u001b[34m(self, xyz, feats, return_latent)\u001b[39m\n\u001b[32m    176\u001b[39m \u001b[38;5;28;01mdef\u001b[39;00m\u001b[38;5;250m \u001b[39m\u001b[34mforward\u001b[39m(\u001b[38;5;28mself\u001b[39m, xyz: torch.Tensor, feats: Optional[torch.Tensor] = \u001b[38;5;28;01mNone\u001b[39;00m, return_latent: \u001b[38;5;28mbool\u001b[39m = \u001b[38;5;28;01mFalse\u001b[39;00m):\n\u001b[32m--> \u001b[39m\u001b[32m177\u001b[39m     per_point = \u001b[38;5;28;43mself\u001b[39;49m\u001b[43m.\u001b[49m\u001b[43mencoder\u001b[49m\u001b[43m(\u001b[49m\u001b[43mxyz\u001b[49m\u001b[43m,\u001b[49m\u001b[43m \u001b[49m\u001b[43mfeats\u001b[49m\u001b[43m)\u001b[49m\n\u001b[32m    178\u001b[39m     latent = \u001b[38;5;28mself\u001b[39m.readout(per_point)\n\u001b[32m    179\u001b[39m     \u001b[38;5;28;01mif\u001b[39;00m \u001b[38;5;28mself\u001b[39m.reg_head \u001b[38;5;129;01mis\u001b[39;00m \u001b[38;5;28;01mNone\u001b[39;00m:\n",
      "\u001b[36mFile \u001b[39m\u001b[32m~/miniforge3/envs/pct/lib/python3.13/site-packages/torch/nn/modules/module.py:1773\u001b[39m, in \u001b[36mModule._wrapped_call_impl\u001b[39m\u001b[34m(self, *args, **kwargs)\u001b[39m\n\u001b[32m   1771\u001b[39m     \u001b[38;5;28;01mreturn\u001b[39;00m \u001b[38;5;28mself\u001b[39m._compiled_call_impl(*args, **kwargs)  \u001b[38;5;66;03m# type: ignore[misc]\u001b[39;00m\n\u001b[32m   1772\u001b[39m \u001b[38;5;28;01melse\u001b[39;00m:\n\u001b[32m-> \u001b[39m\u001b[32m1773\u001b[39m     \u001b[38;5;28;01mreturn\u001b[39;00m \u001b[38;5;28;43mself\u001b[39;49m\u001b[43m.\u001b[49m\u001b[43m_call_impl\u001b[49m\u001b[43m(\u001b[49m\u001b[43m*\u001b[49m\u001b[43margs\u001b[49m\u001b[43m,\u001b[49m\u001b[43m \u001b[49m\u001b[43m*\u001b[49m\u001b[43m*\u001b[49m\u001b[43mkwargs\u001b[49m\u001b[43m)\u001b[49m\n",
      "\u001b[36mFile \u001b[39m\u001b[32m~/miniforge3/envs/pct/lib/python3.13/site-packages/torch/nn/modules/module.py:1784\u001b[39m, in \u001b[36mModule._call_impl\u001b[39m\u001b[34m(self, *args, **kwargs)\u001b[39m\n\u001b[32m   1779\u001b[39m \u001b[38;5;66;03m# If we don't have any hooks, we want to skip the rest of the logic in\u001b[39;00m\n\u001b[32m   1780\u001b[39m \u001b[38;5;66;03m# this function, and just call forward.\u001b[39;00m\n\u001b[32m   1781\u001b[39m \u001b[38;5;28;01mif\u001b[39;00m \u001b[38;5;129;01mnot\u001b[39;00m (\u001b[38;5;28mself\u001b[39m._backward_hooks \u001b[38;5;129;01mor\u001b[39;00m \u001b[38;5;28mself\u001b[39m._backward_pre_hooks \u001b[38;5;129;01mor\u001b[39;00m \u001b[38;5;28mself\u001b[39m._forward_hooks \u001b[38;5;129;01mor\u001b[39;00m \u001b[38;5;28mself\u001b[39m._forward_pre_hooks\n\u001b[32m   1782\u001b[39m         \u001b[38;5;129;01mor\u001b[39;00m _global_backward_pre_hooks \u001b[38;5;129;01mor\u001b[39;00m _global_backward_hooks\n\u001b[32m   1783\u001b[39m         \u001b[38;5;129;01mor\u001b[39;00m _global_forward_hooks \u001b[38;5;129;01mor\u001b[39;00m _global_forward_pre_hooks):\n\u001b[32m-> \u001b[39m\u001b[32m1784\u001b[39m     \u001b[38;5;28;01mreturn\u001b[39;00m \u001b[43mforward_call\u001b[49m\u001b[43m(\u001b[49m\u001b[43m*\u001b[49m\u001b[43margs\u001b[49m\u001b[43m,\u001b[49m\u001b[43m \u001b[49m\u001b[43m*\u001b[49m\u001b[43m*\u001b[49m\u001b[43mkwargs\u001b[49m\u001b[43m)\u001b[49m\n\u001b[32m   1786\u001b[39m result = \u001b[38;5;28;01mNone\u001b[39;00m\n\u001b[32m   1787\u001b[39m called_always_called_hooks = \u001b[38;5;28mset\u001b[39m()\n",
      "\u001b[36mFile \u001b[39m\u001b[32m~/miniforge3/envs/pct/lib/python3.13/site-packages/pct/model.py:134\u001b[39m, in \u001b[36mPointTransformerEncoder.forward\u001b[39m\u001b[34m(self, xyz, feats)\u001b[39m\n\u001b[32m    132\u001b[39m x = \u001b[38;5;28mself\u001b[39m.input_proj(feats)\n\u001b[32m    133\u001b[39m \u001b[38;5;28;01mfor\u001b[39;00m blk \u001b[38;5;129;01min\u001b[39;00m \u001b[38;5;28mself\u001b[39m.blocks:\n\u001b[32m--> \u001b[39m\u001b[32m134\u001b[39m     x = \u001b[43mblk\u001b[49m\u001b[43m(\u001b[49m\u001b[43mxyz\u001b[49m\u001b[43m,\u001b[49m\u001b[43m \u001b[49m\u001b[43mx\u001b[49m\u001b[43m)\u001b[49m\n\u001b[32m    135\u001b[39m \u001b[38;5;28;01mreturn\u001b[39;00m \u001b[38;5;28mself\u001b[39m.out_norm(x)\n",
      "\u001b[36mFile \u001b[39m\u001b[32m~/miniforge3/envs/pct/lib/python3.13/site-packages/torch/nn/modules/module.py:1773\u001b[39m, in \u001b[36mModule._wrapped_call_impl\u001b[39m\u001b[34m(self, *args, **kwargs)\u001b[39m\n\u001b[32m   1771\u001b[39m     \u001b[38;5;28;01mreturn\u001b[39;00m \u001b[38;5;28mself\u001b[39m._compiled_call_impl(*args, **kwargs)  \u001b[38;5;66;03m# type: ignore[misc]\u001b[39;00m\n\u001b[32m   1772\u001b[39m \u001b[38;5;28;01melse\u001b[39;00m:\n\u001b[32m-> \u001b[39m\u001b[32m1773\u001b[39m     \u001b[38;5;28;01mreturn\u001b[39;00m \u001b[38;5;28;43mself\u001b[39;49m\u001b[43m.\u001b[49m\u001b[43m_call_impl\u001b[49m\u001b[43m(\u001b[49m\u001b[43m*\u001b[49m\u001b[43margs\u001b[49m\u001b[43m,\u001b[49m\u001b[43m \u001b[49m\u001b[43m*\u001b[49m\u001b[43m*\u001b[49m\u001b[43mkwargs\u001b[49m\u001b[43m)\u001b[49m\n",
      "\u001b[36mFile \u001b[39m\u001b[32m~/miniforge3/envs/pct/lib/python3.13/site-packages/torch/nn/modules/module.py:1784\u001b[39m, in \u001b[36mModule._call_impl\u001b[39m\u001b[34m(self, *args, **kwargs)\u001b[39m\n\u001b[32m   1779\u001b[39m \u001b[38;5;66;03m# If we don't have any hooks, we want to skip the rest of the logic in\u001b[39;00m\n\u001b[32m   1780\u001b[39m \u001b[38;5;66;03m# this function, and just call forward.\u001b[39;00m\n\u001b[32m   1781\u001b[39m \u001b[38;5;28;01mif\u001b[39;00m \u001b[38;5;129;01mnot\u001b[39;00m (\u001b[38;5;28mself\u001b[39m._backward_hooks \u001b[38;5;129;01mor\u001b[39;00m \u001b[38;5;28mself\u001b[39m._backward_pre_hooks \u001b[38;5;129;01mor\u001b[39;00m \u001b[38;5;28mself\u001b[39m._forward_hooks \u001b[38;5;129;01mor\u001b[39;00m \u001b[38;5;28mself\u001b[39m._forward_pre_hooks\n\u001b[32m   1782\u001b[39m         \u001b[38;5;129;01mor\u001b[39;00m _global_backward_pre_hooks \u001b[38;5;129;01mor\u001b[39;00m _global_backward_hooks\n\u001b[32m   1783\u001b[39m         \u001b[38;5;129;01mor\u001b[39;00m _global_forward_hooks \u001b[38;5;129;01mor\u001b[39;00m _global_forward_pre_hooks):\n\u001b[32m-> \u001b[39m\u001b[32m1784\u001b[39m     \u001b[38;5;28;01mreturn\u001b[39;00m \u001b[43mforward_call\u001b[49m\u001b[43m(\u001b[49m\u001b[43m*\u001b[49m\u001b[43margs\u001b[49m\u001b[43m,\u001b[49m\u001b[43m \u001b[49m\u001b[43m*\u001b[49m\u001b[43m*\u001b[49m\u001b[43mkwargs\u001b[49m\u001b[43m)\u001b[49m\n\u001b[32m   1786\u001b[39m result = \u001b[38;5;28;01mNone\u001b[39;00m\n\u001b[32m   1787\u001b[39m called_always_called_hooks = \u001b[38;5;28mset\u001b[39m()\n",
      "\u001b[36mFile \u001b[39m\u001b[32m~/miniforge3/envs/pct/lib/python3.13/site-packages/pct/model.py:97\u001b[39m, in \u001b[36mPointTransformerBlock.forward\u001b[39m\u001b[34m(self, xyz, feats)\u001b[39m\n\u001b[32m     95\u001b[39m attn = torch.einsum(\u001b[33m'\u001b[39m\u001b[33mbhnc,bhnkc->bhnk\u001b[39m\u001b[33m'\u001b[39m, qh, kh) / math.sqrt(\u001b[38;5;28mself\u001b[39m.d_head)  \u001b[38;5;66;03m# (B, nH, N, k)\u001b[39;00m\n\u001b[32m     96\u001b[39m attn = F.softmax(attn, dim=-\u001b[32m1\u001b[39m)\n\u001b[32m---> \u001b[39m\u001b[32m97\u001b[39m out = \u001b[43mtorch\u001b[49m\u001b[43m.\u001b[49m\u001b[43meinsum\u001b[49m\u001b[43m(\u001b[49m\u001b[33;43m'\u001b[39;49m\u001b[33;43mbhnk,bhnkc->bhnc\u001b[39;49m\u001b[33;43m'\u001b[39;49m\u001b[43m,\u001b[49m\u001b[43m \u001b[49m\u001b[43mattn\u001b[49m\u001b[43m,\u001b[49m\u001b[43m \u001b[49m\u001b[43mvh\u001b[49m\u001b[43m)\u001b[49m  \u001b[38;5;66;03m# (B, nH, N, dH)\u001b[39;00m\n\u001b[32m     99\u001b[39m out = out.permute(\u001b[32m0\u001b[39m, \u001b[32m2\u001b[39m, \u001b[32m1\u001b[39m, \u001b[32m3\u001b[39m).contiguous().view(B, N, -\u001b[32m1\u001b[39m)  \u001b[38;5;66;03m# (B, N, d)\u001b[39;00m\n\u001b[32m    100\u001b[39m out = \u001b[38;5;28mself\u001b[39m.attn_out(out)\n",
      "\u001b[36mFile \u001b[39m\u001b[32m~/miniforge3/envs/pct/lib/python3.13/site-packages/torch/functional.py:422\u001b[39m, in \u001b[36meinsum\u001b[39m\u001b[34m(*args)\u001b[39m\n\u001b[32m    417\u001b[39m     \u001b[38;5;28;01mreturn\u001b[39;00m einsum(equation, *_operands)\n\u001b[32m    419\u001b[39m \u001b[38;5;28;01mif\u001b[39;00m \u001b[38;5;28mlen\u001b[39m(operands) <= \u001b[32m2\u001b[39m \u001b[38;5;129;01mor\u001b[39;00m \u001b[38;5;129;01mnot\u001b[39;00m opt_einsum.enabled:\n\u001b[32m    420\u001b[39m     \u001b[38;5;66;03m# the path for contracting 0 or 1 time(s) is already optimized\u001b[39;00m\n\u001b[32m    421\u001b[39m     \u001b[38;5;66;03m# or the user has disabled using opt_einsum\u001b[39;00m\n\u001b[32m--> \u001b[39m\u001b[32m422\u001b[39m     \u001b[38;5;28;01mreturn\u001b[39;00m \u001b[43m_VF\u001b[49m\u001b[43m.\u001b[49m\u001b[43meinsum\u001b[49m\u001b[43m(\u001b[49m\u001b[43mequation\u001b[49m\u001b[43m,\u001b[49m\u001b[43m \u001b[49m\u001b[43moperands\u001b[49m\u001b[43m)\u001b[49m  \u001b[38;5;66;03m# type: ignore[attr-defined]\u001b[39;00m\n\u001b[32m    424\u001b[39m path = \u001b[38;5;28;01mNone\u001b[39;00m\n\u001b[32m    425\u001b[39m \u001b[38;5;28;01mif\u001b[39;00m opt_einsum.is_available():\n",
      "\u001b[31mKeyboardInterrupt\u001b[39m: "
     ]
    }
   ],
   "source": [
    "pct.train_regression(model, train_loader, val_loader, epochs=pct.TrainConfig.epochs, lr=pct.TrainConfig.lr)"
   ]
  },
  {
   "cell_type": "code",
   "execution_count": 3,
   "id": "346c1e05",
   "metadata": {},
   "outputs": [
    {
     "data": {
      "application/vnd.plotly.v1+json": {
       "config": {
        "plotlyServerURL": "https://plot.ly"
       },
       "data": [
        {
         "marker": {
          "color": {
           "bdata": "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",
           "dtype": "f4"
          },
          "colorscale": [
           [
            0,
            "#440154"
           ],
           [
            0.1111111111111111,
            "#482878"
           ],
           [
            0.2222222222222222,
            "#3e4989"
           ],
           [
            0.3333333333333333,
            "#31688e"
           ],
           [
            0.4444444444444444,
            "#26828e"
           ],
           [
            0.5555555555555556,
            "#1f9e89"
           ],
           [
            0.6666666666666666,
            "#35b779"
           ],
           [
            0.7777777777777778,
            "#6ece58"
           ],
           [
            0.8888888888888888,
            "#b5de2b"
           ],
           [
            1,
            "#fde725"
           ]
          ],
          "opacity": 0.8,
          "size": 3
         },
         "mode": "markers",
         "type": "scatter3d",
         "x": {
          "bdata": "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",
          "dtype": "f4"
         },
         "y": {
          "bdata": "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",
          "dtype": "f4"
         },
         "z": {
          "bdata": "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",
          "dtype": "f4"
         }
        }
       ],
       "layout": {
        "margin": {
         "b": 0,
         "l": 0,
         "r": 0,
         "t": 30
        },
        "scene": {
         "xaxis": {
          "title": {
           "text": "X"
          }
         },
         "yaxis": {
          "title": {
           "text": "Y"
          }
         },
         "zaxis": {
          "title": {
           "text": "Z"
          }
         }
        },
        "template": {
         "data": {
          "bar": [
           {
            "error_x": {
             "color": "#2a3f5f"
            },
            "error_y": {
             "color": "#2a3f5f"
            },
            "marker": {
             "line": {
              "color": "#E5ECF6",
              "width": 0.5
             },
             "pattern": {
              "fillmode": "overlay",
              "size": 10,
              "solidity": 0.2
             }
            },
            "type": "bar"
           }
          ],
          "barpolar": [
           {
            "marker": {
             "line": {
              "color": "#E5ECF6",
              "width": 0.5
             },
             "pattern": {
              "fillmode": "overlay",
              "size": 10,
              "solidity": 0.2
             }
            },
            "type": "barpolar"
           }
          ],
          "carpet": [
           {
            "aaxis": {
             "endlinecolor": "#2a3f5f",
             "gridcolor": "white",
             "linecolor": "white",
             "minorgridcolor": "white",
             "startlinecolor": "#2a3f5f"
            },
            "baxis": {
             "endlinecolor": "#2a3f5f",
             "gridcolor": "white",
             "linecolor": "white",
             "minorgridcolor": "white",
             "startlinecolor": "#2a3f5f"
            },
            "type": "carpet"
           }
          ],
          "choropleth": [
           {
            "colorbar": {
             "outlinewidth": 0,
             "ticks": ""
            },
            "type": "choropleth"
           }
          ],
          "contour": [
           {
            "colorbar": {
             "outlinewidth": 0,
             "ticks": ""
            },
            "colorscale": [
             [
              0,
              "#0d0887"
             ],
             [
              0.1111111111111111,
              "#46039f"
             ],
             [
              0.2222222222222222,
              "#7201a8"
             ],
             [
              0.3333333333333333,
              "#9c179e"
             ],
             [
              0.4444444444444444,
              "#bd3786"
             ],
             [
              0.5555555555555556,
              "#d8576b"
             ],
             [
              0.6666666666666666,
              "#ed7953"
             ],
             [
              0.7777777777777778,
              "#fb9f3a"
             ],
             [
              0.8888888888888888,
              "#fdca26"
             ],
             [
              1,
              "#f0f921"
             ]
            ],
            "type": "contour"
           }
          ],
          "contourcarpet": [
           {
            "colorbar": {
             "outlinewidth": 0,
             "ticks": ""
            },
            "type": "contourcarpet"
           }
          ],
          "heatmap": [
           {
            "colorbar": {
             "outlinewidth": 0,
             "ticks": ""
            },
            "colorscale": [
             [
              0,
              "#0d0887"
             ],
             [
              0.1111111111111111,
              "#46039f"
             ],
             [
              0.2222222222222222,
              "#7201a8"
             ],
             [
              0.3333333333333333,
              "#9c179e"
             ],
             [
              0.4444444444444444,
              "#bd3786"
             ],
             [
              0.5555555555555556,
              "#d8576b"
             ],
             [
              0.6666666666666666,
              "#ed7953"
             ],
             [
              0.7777777777777778,
              "#fb9f3a"
             ],
             [
              0.8888888888888888,
              "#fdca26"
             ],
             [
              1,
              "#f0f921"
             ]
            ],
            "type": "heatmap"
           }
          ],
          "histogram": [
           {
            "marker": {
             "pattern": {
              "fillmode": "overlay",
              "size": 10,
              "solidity": 0.2
             }
            },
            "type": "histogram"
           }
          ],
          "histogram2d": [
           {
            "colorbar": {
             "outlinewidth": 0,
             "ticks": ""
            },
            "colorscale": [
             [
              0,
              "#0d0887"
             ],
             [
              0.1111111111111111,
              "#46039f"
             ],
             [
              0.2222222222222222,
              "#7201a8"
             ],
             [
              0.3333333333333333,
              "#9c179e"
             ],
             [
              0.4444444444444444,
              "#bd3786"
             ],
             [
              0.5555555555555556,
              "#d8576b"
             ],
             [
              0.6666666666666666,
              "#ed7953"
             ],
             [
              0.7777777777777778,
              "#fb9f3a"
             ],
             [
              0.8888888888888888,
              "#fdca26"
             ],
             [
              1,
              "#f0f921"
             ]
            ],
            "type": "histogram2d"
           }
          ],
          "histogram2dcontour": [
           {
            "colorbar": {
             "outlinewidth": 0,
             "ticks": ""
            },
            "colorscale": [
             [
              0,
              "#0d0887"
             ],
             [
              0.1111111111111111,
              "#46039f"
             ],
             [
              0.2222222222222222,
              "#7201a8"
             ],
             [
              0.3333333333333333,
              "#9c179e"
             ],
             [
              0.4444444444444444,
              "#bd3786"
             ],
             [
              0.5555555555555556,
              "#d8576b"
             ],
             [
              0.6666666666666666,
              "#ed7953"
             ],
             [
              0.7777777777777778,
              "#fb9f3a"
             ],
             [
              0.8888888888888888,
              "#fdca26"
             ],
             [
              1,
              "#f0f921"
             ]
            ],
            "type": "histogram2dcontour"
           }
          ],
          "mesh3d": [
           {
            "colorbar": {
             "outlinewidth": 0,
             "ticks": ""
            },
            "type": "mesh3d"
           }
          ],
          "parcoords": [
           {
            "line": {
             "colorbar": {
              "outlinewidth": 0,
              "ticks": ""
             }
            },
            "type": "parcoords"
           }
          ],
          "pie": [
           {
            "automargin": true,
            "type": "pie"
           }
          ],
          "scatter": [
           {
            "fillpattern": {
             "fillmode": "overlay",
             "size": 10,
             "solidity": 0.2
            },
            "type": "scatter"
           }
          ],
          "scatter3d": [
           {
            "line": {
             "colorbar": {
              "outlinewidth": 0,
              "ticks": ""
             }
            },
            "marker": {
             "colorbar": {
              "outlinewidth": 0,
              "ticks": ""
             }
            },
            "type": "scatter3d"
           }
          ],
          "scattercarpet": [
           {
            "marker": {
             "colorbar": {
              "outlinewidth": 0,
              "ticks": ""
             }
            },
            "type": "scattercarpet"
           }
          ],
          "scattergeo": [
           {
            "marker": {
             "colorbar": {
              "outlinewidth": 0,
              "ticks": ""
             }
            },
            "type": "scattergeo"
           }
          ],
          "scattergl": [
           {
            "marker": {
             "colorbar": {
              "outlinewidth": 0,
              "ticks": ""
             }
            },
            "type": "scattergl"
           }
          ],
          "scattermap": [
           {
            "marker": {
             "colorbar": {
              "outlinewidth": 0,
              "ticks": ""
             }
            },
            "type": "scattermap"
           }
          ],
          "scattermapbox": [
           {
            "marker": {
             "colorbar": {
              "outlinewidth": 0,
              "ticks": ""
             }
            },
            "type": "scattermapbox"
           }
          ],
          "scatterpolar": [
           {
            "marker": {
             "colorbar": {
              "outlinewidth": 0,
              "ticks": ""
             }
            },
            "type": "scatterpolar"
           }
          ],
          "scatterpolargl": [
           {
            "marker": {
             "colorbar": {
              "outlinewidth": 0,
              "ticks": ""
             }
            },
            "type": "scatterpolargl"
           }
          ],
          "scatterternary": [
           {
            "marker": {
             "colorbar": {
              "outlinewidth": 0,
              "ticks": ""
             }
            },
            "type": "scatterternary"
           }
          ],
          "surface": [
           {
            "colorbar": {
             "outlinewidth": 0,
             "ticks": ""
            },
            "colorscale": [
             [
              0,
              "#0d0887"
             ],
             [
              0.1111111111111111,
              "#46039f"
             ],
             [
              0.2222222222222222,
              "#7201a8"
             ],
             [
              0.3333333333333333,
              "#9c179e"
             ],
             [
              0.4444444444444444,
              "#bd3786"
             ],
             [
              0.5555555555555556,
              "#d8576b"
             ],
             [
              0.6666666666666666,
              "#ed7953"
             ],
             [
              0.7777777777777778,
              "#fb9f3a"
             ],
             [
              0.8888888888888888,
              "#fdca26"
             ],
             [
              1,
              "#f0f921"
             ]
            ],
            "type": "surface"
           }
          ],
          "table": [
           {
            "cells": {
             "fill": {
              "color": "#EBF0F8"
             },
             "line": {
              "color": "white"
             }
            },
            "header": {
             "fill": {
              "color": "#C8D4E3"
             },
             "line": {
              "color": "white"
             }
            },
            "type": "table"
           }
          ]
         },
         "layout": {
          "annotationdefaults": {
           "arrowcolor": "#2a3f5f",
           "arrowhead": 0,
           "arrowwidth": 1
          },
          "autotypenumbers": "strict",
          "coloraxis": {
           "colorbar": {
            "outlinewidth": 0,
            "ticks": ""
           }
          },
          "colorscale": {
           "diverging": [
            [
             0,
             "#8e0152"
            ],
            [
             0.1,
             "#c51b7d"
            ],
            [
             0.2,
             "#de77ae"
            ],
            [
             0.3,
             "#f1b6da"
            ],
            [
             0.4,
             "#fde0ef"
            ],
            [
             0.5,
             "#f7f7f7"
            ],
            [
             0.6,
             "#e6f5d0"
            ],
            [
             0.7,
             "#b8e186"
            ],
            [
             0.8,
             "#7fbc41"
            ],
            [
             0.9,
             "#4d9221"
            ],
            [
             1,
             "#276419"
            ]
           ],
           "sequential": [
            [
             0,
             "#0d0887"
            ],
            [
             0.1111111111111111,
             "#46039f"
            ],
            [
             0.2222222222222222,
             "#7201a8"
            ],
            [
             0.3333333333333333,
             "#9c179e"
            ],
            [
             0.4444444444444444,
             "#bd3786"
            ],
            [
             0.5555555555555556,
             "#d8576b"
            ],
            [
             0.6666666666666666,
             "#ed7953"
            ],
            [
             0.7777777777777778,
             "#fb9f3a"
            ],
            [
             0.8888888888888888,
             "#fdca26"
            ],
            [
             1,
             "#f0f921"
            ]
           ],
           "sequentialminus": [
            [
             0,
             "#0d0887"
            ],
            [
             0.1111111111111111,
             "#46039f"
            ],
            [
             0.2222222222222222,
             "#7201a8"
            ],
            [
             0.3333333333333333,
             "#9c179e"
            ],
            [
             0.4444444444444444,
             "#bd3786"
            ],
            [
             0.5555555555555556,
             "#d8576b"
            ],
            [
             0.6666666666666666,
             "#ed7953"
            ],
            [
             0.7777777777777778,
             "#fb9f3a"
            ],
            [
             0.8888888888888888,
             "#fdca26"
            ],
            [
             1,
             "#f0f921"
            ]
           ]
          },
          "colorway": [
           "#636efa",
           "#EF553B",
           "#00cc96",
           "#ab63fa",
           "#FFA15A",
           "#19d3f3",
           "#FF6692",
           "#B6E880",
           "#FF97FF",
           "#FECB52"
          ],
          "font": {
           "color": "#2a3f5f"
          },
          "geo": {
           "bgcolor": "white",
           "lakecolor": "white",
           "landcolor": "#E5ECF6",
           "showlakes": true,
           "showland": true,
           "subunitcolor": "white"
          },
          "hoverlabel": {
           "align": "left"
          },
          "hovermode": "closest",
          "mapbox": {
           "style": "light"
          },
          "paper_bgcolor": "white",
          "plot_bgcolor": "#E5ECF6",
          "polar": {
           "angularaxis": {
            "gridcolor": "white",
            "linecolor": "white",
            "ticks": ""
           },
           "bgcolor": "#E5ECF6",
           "radialaxis": {
            "gridcolor": "white",
            "linecolor": "white",
            "ticks": ""
           }
          },
          "scene": {
           "xaxis": {
            "backgroundcolor": "#E5ECF6",
            "gridcolor": "white",
            "gridwidth": 2,
            "linecolor": "white",
            "showbackground": true,
            "ticks": "",
            "zerolinecolor": "white"
           },
           "yaxis": {
            "backgroundcolor": "#E5ECF6",
            "gridcolor": "white",
            "gridwidth": 2,
            "linecolor": "white",
            "showbackground": true,
            "ticks": "",
            "zerolinecolor": "white"
           },
           "zaxis": {
            "backgroundcolor": "#E5ECF6",
            "gridcolor": "white",
            "gridwidth": 2,
            "linecolor": "white",
            "showbackground": true,
            "ticks": "",
            "zerolinecolor": "white"
           }
          },
          "shapedefaults": {
           "line": {
            "color": "#2a3f5f"
           }
          },
          "ternary": {
           "aaxis": {
            "gridcolor": "white",
            "linecolor": "white",
            "ticks": ""
           },
           "baxis": {
            "gridcolor": "white",
            "linecolor": "white",
            "ticks": ""
           },
           "bgcolor": "#E5ECF6",
           "caxis": {
            "gridcolor": "white",
            "linecolor": "white",
            "ticks": ""
           }
          },
          "title": {
           "x": 0.05
          },
          "xaxis": {
           "automargin": true,
           "gridcolor": "white",
           "linecolor": "white",
           "ticks": "",
           "title": {
            "standoff": 15
           },
           "zerolinecolor": "white",
           "zerolinewidth": 2
          },
          "yaxis": {
           "automargin": true,
           "gridcolor": "white",
           "linecolor": "white",
           "ticks": "",
           "title": {
            "standoff": 15
           },
           "zerolinecolor": "white",
           "zerolinewidth": 2
          }
         }
        },
        "title": {
         "text": "Noisy Sphere (r=1.26)"
        }
       }
      }
     },
     "metadata": {},
     "output_type": "display_data"
    }
   ],
   "source": [
    "points, targets = train_ds[0]\n",
    "\n",
    "pct.visualize_point_cloud(points, title=f\"Noisy Sphere (r={targets.item():.2f})\")"
   ]
  }
 ],
 "metadata": {
  "kernelspec": {
   "display_name": "pct",
   "language": "python",
   "name": "python3"
  },
  "language_info": {
   "codemirror_mode": {
    "name": "ipython",
    "version": 3
   },
   "file_extension": ".py",
   "mimetype": "text/x-python",
   "name": "python",
   "nbconvert_exporter": "python",
   "pygments_lexer": "ipython3",
   "version": "3.13.5"
  }
 },
 "nbformat": 4,
 "nbformat_minor": 5
}
