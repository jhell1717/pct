{
 "cells": [
  {
   "cell_type": "code",
   "execution_count": null,
   "id": "3099ad42",
   "metadata": {},
   "outputs": [],
   "source": [
    "import pct\n",
    "from torch.utils.data import Dataset, DataLoader"
   ]
  },
  {
   "cell_type": "code",
   "execution_count": null,
   "id": "f8ba6a4f",
   "metadata": {},
   "outputs": [],
   "source": [
    "train_ds = pct.DummyPointCloudDataset(n_samples=800, n_points=512)\n",
    "val_ds = pct.DummyPointCloudDataset(n_samples=200, n_points=512)\n",
    "\n",
    "train_loader = DataLoader(train_ds, batch_size=pct.TrainConfig.batch_size, shuffle=True, num_workers=0, collate_fn=pct.collate_batch)\n",
    "val_loader = DataLoader(val_ds, batch_size=pct.TrainConfig.batch_size, shuffle=False, num_workers=0, collate_fn=pct.collate_batch)"
   ]
  },
  {
   "cell_type": "code",
   "execution_count": null,
   "id": "662414c5",
   "metadata": {},
   "outputs": [],
   "source": [
    "model = pct.PointCloudTransformer(\n",
    "        in_channels=3,\n",
    "        d_model=pct.TrainConfig.d_model,\n",
    "        depth=pct.TrainConfig.depth,\n",
    "        n_heads=pct.TrainConfig.n_heads,\n",
    "        k=pct.TrainConfig.k,\n",
    "        latent_dim=pct.TrainConfig.latent_dim,\n",
    "        out_dim=pct.TrainConfig.out_dim,\n",
    "        drop=pct.TrainConfig.drop,\n",
    "    )"
   ]
  },
  {
   "cell_type": "code",
   "execution_count": null,
   "id": "6b43bf0f",
   "metadata": {},
   "outputs": [],
   "source": [
    "pct.train_regression(model, train_loader, val_loader, epochs=pct.TrainConfig.epochs, lr=pct.TrainConfig.lr)"
   ]
  },
  {
   "cell_type": "code",
   "execution_count": null,
   "id": "346c1e05",
   "metadata": {},
   "outputs": [],
   "source": [
    "points, targets = train_ds[2]\n",
    "\n",
    "pct.visualize_point_cloud(points, title=f\"Noisy Sphere (r={targets.item():.2f})\")"
   ]
  }
 ],
 "metadata": {
  "kernelspec": {
   "display_name": "pct",
   "language": "python",
   "name": "python3"
  },
  "language_info": {
   "codemirror_mode": {
    "name": "ipython",
    "version": 3
   },
   "file_extension": ".py",
   "mimetype": "text/x-python",
   "name": "python",
   "nbconvert_exporter": "python",
   "pygments_lexer": "ipython3",
   "version": "3.13.5"
  }
 },
 "nbformat": 4,
 "nbformat_minor": 5
}
